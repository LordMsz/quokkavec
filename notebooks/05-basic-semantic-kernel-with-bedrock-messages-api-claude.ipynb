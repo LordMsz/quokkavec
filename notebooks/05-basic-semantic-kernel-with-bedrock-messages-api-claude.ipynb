{
 "cells": [
  {
   "cell_type": "code",
   "execution_count": null,
   "metadata": {
    "dotnet_interactive": {
     "language": "csharp"
    },
    "polyglot_notebook": {
     "kernelName": "csharp"
    },
    "vscode": {
     "languageId": "polyglot-notebook"
    }
   },
   "outputs": [],
   "source": [
    "#r \"nuget: Microsoft.SemanticKernel, 1.13.0\"\n",
    "#r \"nuget: Microsoft.Extensions.Configuration, 8.0.0\"\n",
    "#r \"nuget: Microsoft.Extensions.Configuration.FileExtensions, 8.0.0\"\n",
    "#r \"nuget: Microsoft.Extensions.Configuration.Json, 8.0.0\"\n",
    "#r \"nuget: AWSSDK.BedrockRuntime, 3.7.302.7\"\n",
    "#r \"nuget: Rockhead.Extensions, 0.1.5-preview\""
   ]
  },
  {
   "cell_type": "markdown",
   "metadata": {},
   "source": [
    "# Support classes, Semantic Kernel integration etc.\n",
    "## Note on Text Completions API vs Messages API\n",
    "- seems Text Completions API is the \"older\" one having the \"low level\" text as input\n",
    "    - e.g. `\"prompt\": \"Human:\\n\\n What is quantum mechanics? \\n\\n Assistant:\\n\\n\",`\n",
    "- while Messages API is more akin to what's known from the other Quokka project\n",
    "    - e.g. `\"messages\": [{\"role\": \"user\",\"content\": [{\"type\": \"text\",\"text\": \"What is quantum mechanics?\"}]}],`"
   ]
  },
  {
   "cell_type": "code",
   "execution_count": null,
   "metadata": {
    "dotnet_interactive": {
     "language": "csharp"
    },
    "polyglot_notebook": {
     "kernelName": "csharp"
    },
    "vscode": {
     "languageId": "polyglot-notebook"
    }
   },
   "outputs": [],
   "source": [
    "using System;\n",
    "using System.IO;\n",
    "using System.Threading;\n",
    "using System.Text.Json;\n",
    "using System.Text.Json.Nodes;\n",
    "using System.Text.Json.Serialization;\n",
    "using Microsoft.Extensions.Configuration;\n",
    "using Microsoft.SemanticKernel;\n",
    "using Amazon;\n",
    "using Amazon.Util;\n",
    "using Amazon.BedrockRuntime;\n",
    "using Amazon.BedrockRuntime.Model;\n",
    "using Rockhead.Extensions; // TODO: consider contributing\n",
    "using Rockhead.Extensions.Meta;\n",
    "using Rockhead.Extensions.Anthropic;\n",
    "\n",
    "public class ClaudeTextGenerationResponseContent\n",
    "{\n",
    "\t[JsonPropertyName(\"type\")]\n",
    "\tpublic string Type { get; set; }\n",
    "\n",
    "\t[JsonPropertyName(\"text\")]\n",
    "\tpublic string Text { get; set; }\n",
    "}\n",
    "\n",
    "public class ClaudeTextGenerationResponseUsage\n",
    "{\n",
    "\t[JsonPropertyName(\"input_tokens\")]\n",
    "\tpublic int InputTokens { get; set; }\n",
    "\n",
    "\t[JsonPropertyName(\"output_tokens\")]\n",
    "\tpublic int OutputTokens { get; set; }\n",
    "}\n",
    "\n",
    "public class ClaudeTextGenerationResponse\n",
    "{\n",
    "\t[JsonPropertyName(\"id\")]\n",
    "\tpublic string Id { get; set; }\n",
    "\n",
    "\t[JsonPropertyName(\"type\")]\n",
    "\tpublic string Type { get; set; }\n",
    "\n",
    "\t[JsonPropertyName(\"role\")]\n",
    "\tpublic string Role { get; set; }\n",
    "\n",
    "\t[JsonPropertyName(\"content\")]\n",
    "\tpublic List<ClaudeTextGenerationResponseContent> Content { get; set; }\n",
    "\n",
    "\t[JsonPropertyName(\"model\")]\n",
    "\tpublic string Model { get; set; }\n",
    "\n",
    "\t[JsonPropertyName(\"stop_reason\")]\n",
    "\tpublic string StopReason { get; set; }\n",
    "\n",
    "\t[JsonPropertyName(\"stop_sequence\")]\n",
    "\tpublic string StopSequence { get; set; }\n",
    "\n",
    "\t[JsonPropertyName(\"usage\")]\n",
    "\tpublic ClaudeTextGenerationResponseUsage Usage { get; set; }\n",
    "\n",
    "\tpublic string Completion => this.Content[0]?.Text ?? string.Empty;\n",
    "\tpublic string Stop => this.StopSequence ?? this.StopReason;\n",
    "}\n",
    "\n",
    "public class SemanticBedrock : Microsoft.SemanticKernel.TextGeneration.ITextGenerationService\n",
    "{\n",
    "\tpublic IReadOnlyDictionary<string, object?> Attributes => new Dictionary<string, object?>();\n",
    "\n",
    "\tprivate string ModelId { get; set; }\n",
    "\tprivate string AwsAccessKeyId { get; set; }\n",
    "\tprivate string AwsSecretAccessKey { get; set; }\n",
    "\n",
    "\tpublic SemanticBedrock(string modelId, string awsAccessKeyId, string awsSecretAccessKey)\n",
    "\t{\n",
    "\t\tConsole.WriteLine($\"SemanticBedrock constructor: modelId: {modelId}, awsAccessKeyId: {!string.IsNullOrWhiteSpace(awsAccessKeyId)}, awsSecretAccessKey: {!string.IsNullOrWhiteSpace(awsSecretAccessKey)}\");\n",
    "\t\tthis.ModelId = modelId;\n",
    "\t\tthis.AwsAccessKeyId = awsAccessKeyId;\n",
    "\t\tthis.AwsSecretAccessKey = awsSecretAccessKey;\n",
    "\t} // TODO ctor: https://github.com/microsoft/semantic-kernel/blob/main/dotnet/src/Connectors/Connectors.Google/Services/GoogleAIGeminiChatCompletionService.cs#L31\n",
    "\n",
    "\tpublic IAsyncEnumerable<StreamingTextContent> GetStreamingTextContentsAsync(string prompt, PromptExecutionSettings? executionSettings = null, Kernel? kernel = null, CancellationToken cancellationToken = default)\n",
    "\t{\n",
    "\t\tConsole.WriteLine(\"GetStreamingTextContentsAsync\");\n",
    "\t\tthrow new NotImplementedException();\n",
    "\t}\n",
    "\n",
    "\tpublic Task<IReadOnlyList<TextContent>> GetTextContentsAsync(string prompt, PromptExecutionSettings? executionSettings = null, Kernel? kernel = null, CancellationToken cancellationToken = default)\n",
    "\t{\n",
    "\t\tConsole.WriteLine($\"GetTextContentsAsync, prompt: {prompt}\");\n",
    "\n",
    "\t\tif (string.IsNullOrWhiteSpace(this.AwsAccessKeyId) || string.IsNullOrWhiteSpace(this.AwsSecretAccessKey))\n",
    "\t\t{\n",
    "\t\t\tConsole.WriteLine(\"AWSAccessKeyId or AWSSecretAccessKey is not set, exiting...\");\n",
    "\t\t\tthrow new Exception(\"AWSAccessKeyId or AWSSecretAccessKey is not set\");\n",
    "\t\t}\n",
    "\t\tAmazonBedrockRuntimeClient awsClient = new(this.AwsAccessKeyId, this.AwsSecretAccessKey, RegionEndpoint.USEast1);\n",
    "\t\tstring payload = new JsonObject()\n",
    "\t\t{\n",
    "\t\t\t{ \"messages\",\n",
    "\t\t\t\tnew JsonArray\n",
    "\t\t\t\t{\n",
    "\t\t\t\t\tnew JsonObject\n",
    "\t\t\t\t\t{\n",
    "\t\t\t\t\t\t{ \"role\", \"user\" },\n",
    "\t\t\t\t\t\t{ \"content\",\n",
    "\t\t\t\t\t\t\tnew JsonArray\n",
    "\t\t\t\t\t\t\t{\n",
    "\t\t\t\t\t\t\t\tnew JsonObject\n",
    "\t\t\t\t\t\t\t\t{\n",
    "\t\t\t\t\t\t\t\t\t{ \"type\", \"text\" },\n",
    "\t\t\t\t\t\t\t\t\t{ \"text\", prompt }\n",
    "\t\t\t\t\t\t\t\t}\n",
    "\t\t\t\t\t\t\t}\n",
    "\t\t\t\t\t\t}\n",
    "\t\t\t\t\t}\n",
    "\t\t\t\t}\n",
    "\t\t\t},\n",
    "\t\t\t{ \"max_tokens\", 512 },\n",
    "\t\t\t{ \"temperature\", 0.5 },\n",
    "\t\t\t{ \"anthropic_version\", \"bedrock-2023-05-31\" }\n",
    "\t\t}.ToJsonString();\n",
    "\n",
    "\t\ttry\n",
    "\t\t{\n",
    "\t\t\tvar response = awsClient.InvokeModelAsync(new InvokeModelRequest\n",
    "\t\t\t{\n",
    "\t\t\t\tModelId = this.ModelId,\n",
    "\t\t\t\tBody = AWSSDKUtils.GenerateMemoryStreamFromString(payload),\n",
    "\t\t\t\tContentType = \"application/json\",\n",
    "\t\t\t\tAccept = \"application/json\"\n",
    "\t\t\t}).GetAwaiter().GetResult();\n",
    "\t\t\tConsole.WriteLine(response);\n",
    "\t\t\tConsole.WriteLine(response?.HttpStatusCode);\n",
    "\t\t\tConsole.WriteLine(response?.Body?.ToString());\n",
    "\n",
    "\t\t\t// use system.text.json to parse the response into testResponse object\n",
    "\t\t\tvar jsonString = (new StreamReader(response.Body).ReadToEndAsync()).GetAwaiter().GetResult();\n",
    "\t\t\tConsole.WriteLine($\"Response jsonString: {jsonString}\");\n",
    "\n",
    "\t\t\t// {\"id\":\"msg_011NiLrziFXmBy9TJxMketRD\",\"type\":\"message\",\"role\":\"assistant\",\"content\":[{\"type\":\"text\",\"text\":\"AI (Artificial Intelligence) is awesome because ... (removed for brevity)\"}],\"model\":\"claude-3-sonnet-28k-20240229\",\"stop_reason\":\"end_turn\",\"stop_sequence\":null,\"usage\":{\"input_tokens\":15,\"output_tokens\":141}}\n",
    "\t\t\tvar testResponse = JsonSerializer.Deserialize<ClaudeTextGenerationResponse>(jsonString) ?? new ClaudeTextGenerationResponse();\n",
    "\t\t\tConsole.WriteLine($\"Deserialized response: {testResponse}\");\n",
    "\t\t\tConsole.WriteLine($\"Id: {testResponse.Id}\");\n",
    "\t\t\tConsole.WriteLine($\"Type: {testResponse.Type}\");\n",
    "\t\t\tConsole.WriteLine($\"Role: {testResponse.Role}\");\n",
    "\t\t\tforeach (var content in testResponse.Content)\n",
    "\t\t\t{\n",
    "\t\t\t\tConsole.WriteLine($\"Content text: {content.Text}\");\n",
    "\t\t\t\tConsole.WriteLine($\"Content type: {content.Type}\");\n",
    "\t\t\t}\n",
    "\t\t\tConsole.WriteLine($\"Completion: {testResponse.Completion}\");\n",
    "\t\t\tConsole.WriteLine($\"Model: {testResponse.Model}\");\n",
    "\t\t\tConsole.WriteLine($\"Usage: {testResponse.Usage}\");\n",
    "\t\t\tConsole.WriteLine($\"Stop: {testResponse.Stop}\");\n",
    "\t\t\tConsole.WriteLine($\"StopSequence: {testResponse.StopSequence}\");\n",
    "\t\t\tConsole.WriteLine($\"StopReason: {testResponse.StopReason}\");\n",
    "\n",
    "\t\t\treturn Task.FromResult<IReadOnlyList<TextContent>>(new List<TextContent> { new(testResponse.Completion) });\n",
    "\t\t}\n",
    "\t\tcatch (Exception ex)\n",
    "\t\t{\n",
    "\t\t\tConsole.WriteLine($\"Error invoking model: {ex.Message}\");\n",
    "\t\t\treturn Task.FromResult<IReadOnlyList<TextContent>>(new List<TextContent> { new(\"Error invoking model\") });\n",
    "\t\t}\n",
    "\t}\n",
    "}"
   ]
  },
  {
   "cell_type": "markdown",
   "metadata": {},
   "source": [
    "# Load API keys from dotnet User-Secrets and setup Semantic Kernel"
   ]
  },
  {
   "cell_type": "code",
   "execution_count": null,
   "metadata": {
    "dotnet_interactive": {
     "language": "csharp"
    },
    "polyglot_notebook": {
     "kernelName": "csharp"
    },
    "vscode": {
     "languageId": "polyglot-notebook"
    }
   },
   "outputs": [],
   "source": [
    "using System.IO;\n",
    "using Microsoft.SemanticKernel;\n",
    "using Microsoft.SemanticKernel.Embeddings;\n",
    "using Microsoft.SemanticKernel.TextGeneration;\n",
    "using Microsoft.Extensions.Configuration;\n",
    "using Microsoft.Extensions.DependencyInjection;\n",
    "\n",
    "\n",
    "var builder = new ConfigurationBuilder()\n",
    "    .SetBasePath(Directory.GetCurrentDirectory())\n",
    "    .AddJsonFile(Path.Combine(\n",
    "        Environment.GetFolderPath(Environment.SpecialFolder.ApplicationData),\n",
    "        \"Microsoft\",\n",
    "        \"UserSecrets\",\n",
    "        \"2b6c897c-02c0-4c8e-91a8-cb61113a6acc\", // comes from the project file QuokkaVec.Console.csproj\n",
    "        \"secrets.json\")\n",
    "    );\n",
    "\n",
    "IConfigurationRoot configuration = builder.Build();\n",
    "string awsAccessKeyId = configuration[\"AWSAccessKeyId\"] ?? string.Empty;\n",
    "string awsSecretAccessKey = configuration[\"AWSSecretAccessKey\"] ?? string.Empty;\n",
    "\n",
    "if (string.IsNullOrWhiteSpace(awsAccessKeyId) || string.IsNullOrWhiteSpace(awsSecretAccessKey))\n",
    "{\n",
    "\tConsole.WriteLine(\"AWSAccessKeyId or AWSSecretAccessKey is not set, use 'dotnet user-secrets init' and 'dotnet user-secrets set <key> <value>' to set the key, exiting...\");\n",
    "\treturn;\n",
    "}\n",
    "\n",
    "Console.WriteLine(\"API Keys set\");\n",
    "\n",
    "#pragma warning disable SKEXP0010 // Type is for evaluation purposes only and is subject to change or removal in future updates. Suppress this diagnostic to proceed.\n",
    "#pragma warning disable SKEXP0001 // Type is for evaluation purposes only and is subject to change or removal in future updates. Suppress this diagnostic to proceed.\n",
    "\n",
    "var kernelBuilder = Kernel.CreateBuilder();\n",
    "// kernelBuilder.Services.AddSingleton<ITextGenerationService, SemanticBedrock>();\n",
    "kernelBuilder.Services.AddSingleton<ITextGenerationService, SemanticBedrock>((_) => new SemanticBedrock(\"anthropic.claude-3-sonnet-20240229-v1:0\", awsAccessKeyId, awsSecretAccessKey));//\"anthropic.claude-3-sonnet-20240229-v1:0\";//\"meta.llama3-70b-instruct-v1:0\";\n",
    "// kerbelBuilder.AddOpenAITextEmbeddingGeneration(\"text-embedding-3-small\", openAIAPIKey);\n",
    "var kernel = kernelBuilder.Build();\n",
    "\n",
    "// var embeddingGenerationService = kernel.GetRequiredService<ITextEmbeddingGenerationService>();\n",
    "\n",
    "const string functionDefinition = \"Write one paragraph on {{$input}}\";\n",
    "var paragraphWritingFunction = kernel.CreateFunctionFromPrompt(functionDefinition);\n",
    "\n",
    "const string input = \"Why AI is awesome\";\n",
    "Console.WriteLine($\"Function input: {input}\\n\");\n",
    "var result = await paragraphWritingFunction.InvokeAsync(kernel, new() { [\"input\"] = input });\n",
    "Console.WriteLine($\"Function output: {result}\");\n",
    "// kernel.InvokePromptAsync(\"Write one paragraph on Why AI is awesome\", cancellationToken: default).Wait();"
   ]
  },
  {
   "cell_type": "markdown",
   "metadata": {},
   "source": [
    "# Bedrock Claude Chat service\n",
    "\n"
   ]
  },
  {
   "cell_type": "code",
   "execution_count": null,
   "metadata": {
    "dotnet_interactive": {
     "language": "csharp"
    },
    "polyglot_notebook": {
     "kernelName": "csharp"
    },
    "vscode": {
     "languageId": "polyglot-notebook"
    }
   },
   "outputs": [],
   "source": [
    "using System;\n",
    "using System.IO;\n",
    "using System.Threading;\n",
    "using System.Text.Json;\n",
    "using System.Text.Json.Nodes;\n",
    "using System.Text.Json.Serialization;\n",
    "using Microsoft.Extensions.Configuration;\n",
    "using Microsoft.SemanticKernel;\n",
    "using Microsoft.SemanticKernel.ChatCompletion;\n",
    "using Amazon;\n",
    "using Amazon.Util;\n",
    "using Amazon.BedrockRuntime;\n",
    "using Amazon.BedrockRuntime.Model;\n",
    "using Rockhead.Extensions; // TODO: consider contributing\n",
    "using Rockhead.Extensions.Meta;\n",
    "using Rockhead.Extensions.Anthropic;\n",
    "\n",
    "public class SemanticBedrockChatCompletionService : Microsoft.SemanticKernel.ChatCompletion.IChatCompletionService\n",
    "{\n",
    "\tprivate string ModelId { get; set; }\n",
    "\tprivate string AwsAccessKeyId { get; set; }\n",
    "\tprivate string AwsSecretAccessKey { get; set; }\n",
    "\n",
    "\tpublic IReadOnlyDictionary<string, object?> Attributes => new Dictionary<string, object?>();\n",
    "\n",
    "\tpublic SemanticBedrockChatCompletionService(string modelId, string awsAccessKeyId, string awsSecretAccessKey)\n",
    "\t{\n",
    "\t\tConsole.WriteLine($\"SemanticBedrockChatCompletionService constructor: modelId: {modelId}, awsAccessKeyId: {!string.IsNullOrWhiteSpace(awsAccessKeyId)}, awsSecretAccessKey: {!string.IsNullOrWhiteSpace(awsSecretAccessKey)}\");\n",
    "\t\tthis.ModelId = modelId;\n",
    "\t\tthis.AwsAccessKeyId = awsAccessKeyId;\n",
    "\t\tthis.AwsSecretAccessKey = awsSecretAccessKey;\n",
    "\t}\n",
    "\n",
    "\tpublic Task<IReadOnlyList<ChatMessageContent>> GetChatMessageContentsAsync(ChatHistory chatHistory, PromptExecutionSettings? executionSettings = null, Kernel? kernel = null, CancellationToken cancellationToken = default)\n",
    "\t{\n",
    "\t\tConsole.WriteLine(\"GetChatMessageContentsAsync\");\n",
    "\n",
    "\t\tif (string.IsNullOrWhiteSpace(this.AwsAccessKeyId) || string.IsNullOrWhiteSpace(this.AwsSecretAccessKey))\n",
    "\t\t{\n",
    "\t\t\tConsole.WriteLine(\"AWSAccessKeyId or AWSSecretAccessKey is not set, exiting...\");\n",
    "\t\t\tthrow new Exception(\"AWSAccessKeyId or AWSSecretAccessKey is not set\");\n",
    "\t\t}\n",
    "\t\tAmazonBedrockRuntimeClient awsClient = new(this.AwsAccessKeyId, this.AwsSecretAccessKey, RegionEndpoint.USEast1);\n",
    "\n",
    "\t\t// turn chatHistory parameter into the json payload\n",
    "\t\tJsonArray messages = new();\n",
    "\t\tforeach (var chatMessage in chatHistory)\n",
    "\t\t{\n",
    "\t\t\tJsonArray contentArray = new();\n",
    "\t\t\t//contentArray.Add(chatMessage.Items.OfType<TextContent>().Select(item =>\n",
    "\t\t\t//\t\t\t\tnew JsonObject\n",
    "\t\t\t//\t\t\t\t{\n",
    "\t\t\t//\t\t\t\t\t{ \"type\", \"text\" },\n",
    "\t\t\t//\t\t\t\t\t{ \"text\", item.Text }\n",
    "\t\t\t//\t\t\t\t})); // doesn't work for some reason\n",
    "\t\t\tcontentArray.Add(new JsonObject\n",
    "\t\t\t{\n",
    "\t\t\t\t{ \"type\", \"text\" },\n",
    "\t\t\t\t{ \"text\", chatMessage.Content } // simplified for now down to just the content\n",
    "\t\t\t});\n",
    "\n",
    "\t\t\tmessages.Add(\n",
    "\t\t\t\tnew JsonObject\n",
    "\t\t\t\t{\n",
    "\t\t\t\t\t{ \"role\", chatMessage.Role.Label },\n",
    "\t\t\t\t\t{ \"content\", contentArray }\n",
    "\t\t\t\t});\n",
    "\t\t\tConsole.WriteLine($\"   - Added ChatMessage: {chatMessage.Role.Label} - {chatMessage.Content}\");\n",
    "\t\t}\n",
    "\n",
    "\t\t// prepare function/tool/plugin call data\n",
    "\t\t// see https://docs.anthropic.com/en/docs/tool-use\n",
    "\t\t// looks like function calling is not available on Claude on Bedrock yet\n",
    "\t\t// https://repost.aws/questions/QUHOlMnUGjTQ28g9938DuyVg/bedrock-function-calling-feature\n",
    "\t\t// workaround? https://medium.com/@daniellefranca96/running-a-langchain-agent-on-bedrock-claude-using-the-model-function-calling-5f400a8f0d62\n",
    "\t\t// or possibly what https://github.com/Cysharp/Claudia?tab=readme-ov-file#aws-bedrock is doing\n",
    "\t\t// see https://docs.anthropic.com/en/docs/legacy-tool-use\n",
    "\t\t// for fun below just let's add some test system messages\n",
    "\t\tvar tools = executionSettings?.ExtensionData?[\"Plugins\"] as List<KernelPlugin> ?? new();\n",
    "\n",
    "\t\tif (tools.Any())\n",
    "\t\t{\n",
    "\t\t\tConsole.WriteLine($\"Tools found: {tools.Count}\");\n",
    "\n",
    "\t\t\t// hack:\n",
    "\t\t\tmessages.Add(\n",
    "\t\t\tnew JsonObject\n",
    "\t\t\t{\n",
    "\t\t\t\t\t{ \"role\", \"assistant\" },\n",
    "\t\t\t\t\t{ \"content\", new JsonArray { new JsonObject { { \"type\", \"text\" }, { \"text\", \"Can you provide any tools I can use?\" } } } }\n",
    "\t\t\t});\n",
    "\n",
    "\t\t\tstring functionsDescription = tools.Select(tool =>\n",
    "\t\t\t$\"\"\"\n",
    "\t\t\t<tool_description>\n",
    "\t\t\t<tool_name>{tool.Name}</tool_name>\n",
    "\t\t\t<description>\n",
    "\t\t\t{tool.Description}\n",
    "\t\t\t</description>\n",
    "\t\t\t<parameters>\n",
    "\t\t\t</parameters>\n",
    "\t\t\t</tool_description>\n",
    "\n",
    "\t\t\t\"\"\"\n",
    "\t\t\t).Aggregate((a, b) => a + b);\n",
    "\t\t\t// TODO: {tool.FirstOrDefault()?.Metadata?.Parameters}\n",
    "\n",
    "\t\t\tmessages.Add(\n",
    "\t\t\t\tnew JsonObject\n",
    "\t\t\t\t{\n",
    "\t\t\t\t\t{ \"role\", \"user\" }, // Claude doesn't support tool role seems?\n",
    "\t\t\t\t\t{ \"content\", new JsonArray { new JsonObject { { \"type\", \"text\" }, { \"text\", functionsDescription } } } }\n",
    "\t\t\t\t});\n",
    "\t\t}\n",
    "\t\telse\n",
    "\t\t{\n",
    "\t\t\tConsole.WriteLine(\"No tools found\");\n",
    "\t\t}\n",
    "\n",
    "\n",
    "\t\tstring payload = new JsonObject()\n",
    "\t\t{\n",
    "\t\t\t{ \"messages\", messages },\n",
    "\t\t\t{ \"max_tokens\", 2048 },\n",
    "\t\t\t{ \"temperature\", 0.5 },\n",
    "\t\t\t{ \"anthropic_version\", \"bedrock-2023-05-31\" }\n",
    "\t\t}.ToJsonString();\n",
    "\n",
    "\t\ttry\n",
    "\t\t{\n",
    "\t\t\t// TODO: consider using RockheadExtension methods instead of direct call\n",
    "\t\t\t//awsClient.InvokeClaudeMessagesAsync(Model.Claude.Claude3Sonnet, new ClaudeMessage { Content = null, Role = \"user\"}, new ClaudeMessagesConfig() { })\n",
    "\t\t\tvar response = awsClient.InvokeModelAsync(new InvokeModelRequest\n",
    "\t\t\t{\n",
    "\t\t\t\tModelId = this.ModelId,\n",
    "\t\t\t\tBody = AWSSDKUtils.GenerateMemoryStreamFromString(payload),\n",
    "\t\t\t\tContentType = \"application/json\",\n",
    "\t\t\t\tAccept = \"application/json\"\n",
    "\t\t\t}).GetAwaiter().GetResult();\n",
    "\t\t\tConsole.WriteLine(response);\n",
    "\t\t\tConsole.WriteLine(response?.HttpStatusCode);\n",
    "\t\t\tConsole.WriteLine(response?.Body?.ToString());\n",
    "\n",
    "\t\t\t// use system.text.json to parse the response into testResponse object\n",
    "\t\t\tvar jsonString = (new StreamReader(response.Body).ReadToEndAsync()).GetAwaiter().GetResult();\n",
    "\t\t\tConsole.WriteLine($\"  - Response jsonString: {jsonString}\");\n",
    "\n",
    "\t\t\t// {\"id\":\"msg_011NiLrziFXmBy9TJxMketRD\",\"type\":\"message\",\"role\":\"assistant\",\"content\":[{\"type\":\"text\",\"text\":\"AI (Artificial Intelligence) is awesome because ... (removed for brevity)\"}],\"model\":\"claude-3-sonnet-28k-20240229\",\"stop_reason\":\"end_turn\",\"stop_sequence\":null,\"usage\":{\"input_tokens\":15,\"output_tokens\":141}}\n",
    "\t\t\tvar claudeResponse = JsonSerializer.Deserialize<ClaudeTextGenerationResponse>(jsonString) ?? new ClaudeTextGenerationResponse();\n",
    "\t\t\tConsole.WriteLine($\"  - Deserialized response: {claudeResponse}\");\n",
    "\t\t\tConsole.WriteLine($\"  - Id: {claudeResponse.Id}\");\n",
    "\t\t\tConsole.WriteLine($\"  - Type: {claudeResponse.Type}\");\n",
    "\t\t\tConsole.WriteLine($\"  - Role: {claudeResponse.Role}\");\n",
    "\t\t\tforeach (var content in claudeResponse.Content)\n",
    "\t\t\t{\n",
    "\t\t\t\tConsole.WriteLine($\"   - Content text: {content.Text}\");\n",
    "\t\t\t\tConsole.WriteLine($\"   - Content type: {content.Type}\");\n",
    "\t\t\t}\n",
    "\t\t\tConsole.WriteLine($\"  - Completion: {claudeResponse.Completion}\");\n",
    "\t\t\tConsole.WriteLine($\"  - Model: {claudeResponse.Model}\");\n",
    "\t\t\tConsole.WriteLine($\"  - Usage: {claudeResponse.Usage}\");\n",
    "\t\t\tConsole.WriteLine($\"  - Stop: {claudeResponse.Stop}\");\n",
    "\t\t\tConsole.WriteLine($\"  - StopSequence: {claudeResponse.StopSequence}\");\n",
    "\t\t\tConsole.WriteLine($\"  - StopReason: {claudeResponse.StopReason}\");\n",
    "\n",
    "\t\t\tAuthorRole ClaudeAuthorStringToKernelRole(string authorString)\n",
    "\t\t\t{\n",
    "\t\t\t\tswitch (authorString)\n",
    "\t\t\t\t{\n",
    "\t\t\t\t\tcase \"assistant\":\n",
    "\t\t\t\t\t\treturn AuthorRole.Assistant;\n",
    "\t\t\t\t\tcase \"user\":\n",
    "\t\t\t\t\t\treturn AuthorRole.User;\n",
    "\t\t\t\t\tcase \"system\":\n",
    "\t\t\t\t\t\treturn AuthorRole.System;\n",
    "\t\t\t\t\tcase \"tool\":\n",
    "\t\t\t\t\t\treturn AuthorRole.Tool;\n",
    "\t\t\t\t\tdefault:\n",
    "\t\t\t\t\t\treturn AuthorRole.Assistant;\n",
    "\t\t\t\t}\n",
    "\t\t\t}\n",
    "\n",
    "\t\t\treturn Task.FromResult<IReadOnlyList<ChatMessageContent>>(\n",
    "\t\t\t\tclaudeResponse.Content.Select(content =>\n",
    "\t\t\t\t\tnew ChatMessageContent(\n",
    "\t\t\t\t\t\tClaudeAuthorStringToKernelRole(claudeResponse.Role),\n",
    "\t\t\t\t\t\tcontent.Text,\n",
    "\t\t\t\t\t\tmodelId: claudeResponse.Model)\n",
    "\t\t\t\t\t)\n",
    "\t\t\t\t.ToList());\n",
    "\t\t}\n",
    "\t\tcatch (Exception ex)\n",
    "\t\t{\n",
    "\t\t\tConsole.WriteLine($\"Error invoking model: {ex.Message}\");\n",
    "\t\t\treturn Task.FromResult<IReadOnlyList<ChatMessageContent>>(new List<ChatMessageContent> { new(AuthorRole.Assistant, \"Error invoking model\") });\n",
    "\t\t}\n",
    "\t}\n",
    "\n",
    "\tpublic IAsyncEnumerable<StreamingChatMessageContent> GetStreamingChatMessageContentsAsync(ChatHistory chatHistory, PromptExecutionSettings? executionSettings = null, Kernel? kernel = null, CancellationToken cancellationToken = default)\n",
    "\t{\n",
    "\t\tConsole.WriteLine(\"GetStreamingChatMessageContentsAsync\");\n",
    "\t\tthrow new NotImplementedException();\n",
    "\t}\n",
    "}"
   ]
  },
  {
   "cell_type": "code",
   "execution_count": null,
   "metadata": {
    "dotnet_interactive": {
     "language": "csharp"
    },
    "polyglot_notebook": {
     "kernelName": "csharp"
    },
    "vscode": {
     "languageId": "polyglot-notebook"
    }
   },
   "outputs": [],
   "source": [
    "using System.IO;\n",
    "using Microsoft.SemanticKernel;\n",
    "using Microsoft.SemanticKernel.Embeddings;\n",
    "using Microsoft.SemanticKernel.TextGeneration;\n",
    "using Microsoft.SemanticKernel.ChatCompletion;\n",
    "using Microsoft.Extensions.Configuration;\n",
    "using Microsoft.Extensions.DependencyInjection;\n",
    "\n",
    "\n",
    "var builder = new ConfigurationBuilder()\n",
    "    .SetBasePath(Directory.GetCurrentDirectory())\n",
    "    .AddJsonFile(Path.Combine(\n",
    "        Environment.GetFolderPath(Environment.SpecialFolder.ApplicationData),\n",
    "        \"Microsoft\",\n",
    "        \"UserSecrets\",\n",
    "        \"2b6c897c-02c0-4c8e-91a8-cb61113a6acc\", // comes from the project file QuokkaVec.Console.csproj\n",
    "        \"secrets.json\")\n",
    "    );\n",
    "\n",
    "IConfigurationRoot configuration = builder.Build();\n",
    "string awsAccessKeyId = configuration[\"AWSAccessKeyId\"] ?? string.Empty;\n",
    "string awsSecretAccessKey = configuration[\"AWSSecretAccessKey\"] ?? string.Empty;\n",
    "\n",
    "if (string.IsNullOrWhiteSpace(awsAccessKeyId) || string.IsNullOrWhiteSpace(awsSecretAccessKey))\n",
    "{\n",
    "\tConsole.WriteLine(\"AWSAccessKeyId or AWSSecretAccessKey is not set, use 'dotnet user-secrets init' and 'dotnet user-secrets set <key> <value>' to set the key, exiting...\");\n",
    "\treturn;\n",
    "}\n",
    "\n",
    "Console.WriteLine(\"API Keys set\");\n",
    "\n",
    "#pragma warning disable SKEXP0010 // Type is for evaluation purposes only and is subject to change or removal in future updates. Suppress this diagnostic to proceed.\n",
    "#pragma warning disable SKEXP0001 // Type is for evaluation purposes only and is subject to change or removal in future updates. Suppress this diagnostic to proceed.\n",
    "\n",
    "var kernelBuilder = Kernel.CreateBuilder();\n",
    "kernelBuilder.Services.AddSingleton<IChatCompletionService, SemanticBedrockChatCompletionService>((_) =>\n",
    "    new(\"anthropic.claude-3-sonnet-20240229-v1:0\", awsAccessKeyId, awsSecretAccessKey));\n",
    "// kerbelBuilder.AddOpenAITextEmbeddingGeneration(\"text-embedding-3-small\", openAIAPIKey);\n",
    "var kernel = kernelBuilder.Build();\n",
    "// var embeddingGenerationService = kernel.GetRequiredService<ITextEmbeddingGenerationService>();\n",
    "\n",
    "ChatHistory chatHistory = new();\n",
    "chatHistory.AddUserMessage(\"Hi, can you tell me what's the date today?\");\n",
    "\n",
    "// chat\n",
    "var chatService = kernel.GetRequiredService<IChatCompletionService>();\n",
    "\n",
    "var chatResult = await chatService.GetChatMessageContentsAsync(chatHistory);\n",
    "chatHistory.AddAssistantMessage(chatResult.FirstOrDefault()?.Content ?? \"No response\"); // just for convenience simplified to first message\n",
    "foreach (var chatMessage in chatResult)\n",
    "{\n",
    "    Console.WriteLine($\"ChatMessage: {chatMessage.Role} - {chatMessage.Content}\");\n",
    "}"
   ]
  },
  {
   "cell_type": "code",
   "execution_count": null,
   "metadata": {
    "dotnet_interactive": {
     "language": "csharp"
    },
    "polyglot_notebook": {
     "kernelName": "csharp"
    },
    "vscode": {
     "languageId": "polyglot-notebook"
    }
   },
   "outputs": [],
   "source": [
    "using System.ComponentModel;\n",
    "\n",
    "public class SimpleDateTimePlugin\n",
    "{\n",
    "    [KernelFunction]\n",
    "    [Description(\"Returns the current date and time.\")]\n",
    "    public string GetDateTime()\n",
    "    {\n",
    "        return DateTime.Now.ToString();\n",
    "    }\n",
    "}\n",
    "\n",
    "KernelPlugin dateTimePlugin = kernel.CreatePluginFromType<SimpleDateTimePlugin>();\n",
    "kernel.Plugins.Add(dateTimePlugin);\n",
    "\n",
    "chatHistory.AddUserMessage(\"Can you tell me the date and time now?\");\n",
    "var chatResult = await chatService.GetChatMessageContentsAsync(chatHistory, executionSettings: new PromptExecutionSettings { ExtensionData = new Dictionary<string, object?> { [\"Plugins\"] = new List<KernelPlugin> { dateTimePlugin } } });\n",
    "chatHistory.AddAssistantMessage(chatResult.FirstOrDefault()?.Content ?? \"No response\"); // just for convenience simplified to first message\n",
    "\n",
    "chatHistory"
   ]
  },
  {
   "cell_type": "markdown",
   "metadata": {},
   "source": [
    "# TODO: Plugin and Planner\n",
    "- https://devblogs.microsoft.com/semantic-kernel/introducing-api-manifest-plugins-for-semantic-kernel-2/\n",
    "- consider https://github.com/Cysharp/Claudia and https://github.com/Cysharp/Claudia?tab=readme-ov-file#aws-bedrock"
   ]
  },
  {
   "cell_type": "code",
   "execution_count": null,
   "metadata": {
    "dotnet_interactive": {
     "language": "csharp"
    },
    "polyglot_notebook": {
     "kernelName": "csharp"
    },
    "vscode": {
     "languageId": "polyglot-notebook"
    }
   },
   "outputs": [],
   "source": [
    "using System.ComponentModel;\n",
    "using Microsoft.SemanticKernel;\n",
    "\n",
    "// note, copied from https://github.com/microsoft/autogen/blob/main/dotnet/sample/AutoGen.BasicSamples/Example10_SemanticKernel.cs\n",
    "public class SimpleLightPlugin\n",
    "{\n",
    "    public bool IsOn { get; set; } = false;\n",
    "\n",
    "    [KernelFunction]\n",
    "    [Description(\"Gets the state of the light.\")]\n",
    "    public string GetState() => this.IsOn ? \"on\" : \"off\";\n",
    "\n",
    "    [KernelFunction]\n",
    "    [Description(\"Changes the state of the light.'\")]\n",
    "    public string ChangeState(bool newState)\n",
    "    {\n",
    "        this.IsOn = newState;\n",
    "        var state = this.GetState();\n",
    "\n",
    "        Console.WriteLine($\"[Light is now {state}]\");\n",
    "\n",
    "        return state;\n",
    "    }\n",
    "}\n",
    "\n",
    "\n",
    "// prepare Kernel plugin\n",
    "KernelPlugin lightPlugin = kernel.CreatePluginFromType<SimpleLightPlugin>();\n",
    "kernel.Plugins.Add(lightPlugin);\n",
    "\n",
    "// TODO: var skAgent = kernel.ToSemanticKernelAgent(name: \"assistant\", systemMessage: \"You control the light\", settings);\n",
    "\n",
    "string goal =\n",
    "\"\"\"\n",
    "Control the light, turn it on if it's off, and leave it on if it's on.\n",
    "\"\"\";\n",
    "\n",
    "// prepare planner\n",
    "// FunctionCallingPlanner"
   ]
  },
  {
   "cell_type": "code",
   "execution_count": null,
   "metadata": {
    "dotnet_interactive": {
     "language": "csharp"
    },
    "polyglot_notebook": {
     "kernelName": "csharp"
    },
    "vscode": {
     "languageId": "polyglot-notebook"
    }
   },
   "outputs": [],
   "source": [
    "const string skPrompt = @\"\n",
    "ChatBot can have a conversation with you about any topic.\n",
    "It can give explicit instructions or say 'I don't know' if it does not have an answer.\n",
    "\n",
    "{{$history}}\n",
    "User: {{$userInput}}\n",
    "ChatBot:\";\n",
    "\n",
    "// var executionSettings = new OpenAIPromptExecutionSettings  //TODO bedrock settings\n",
    "// {\n",
    "//     MaxTokens = 2000,\n",
    "//     Temperature = 0.7,\n",
    "//     TopP = 0.5\n",
    "// };\n",
    "var chatFunction = kernel.CreateFunctionFromPrompt(skPrompt);//, executionSettings);\n",
    "var history = \"\";\n",
    "var arguments = new KernelArguments()\n",
    "{\n",
    "    [\"history\"] = history\n",
    "};\n",
    "\n",
    "var userInput = \"Hi, I'm looking for book suggestions\";\n",
    "arguments[\"userInput\"] = userInput;\n",
    "\n",
    "var bot_answer = await chatFunction.InvokeAsync(kernel, arguments);"
   ]
  },
  {
   "cell_type": "code",
   "execution_count": null,
   "metadata": {
    "dotnet_interactive": {
     "language": "csharp"
    },
    "polyglot_notebook": {
     "kernelName": "csharp"
    },
    "vscode": {
     "languageId": "polyglot-notebook"
    }
   },
   "outputs": [],
   "source": [
    "history += $\"\\nUser: {userInput}\\nAI: {bot_answer}\\n\";\n",
    "arguments[\"history\"] = history;\n",
    "\n",
    "Console.WriteLine(history);\n",
    "\n",
    "arguments[\"userInput\"] = \"Alright, but I'm looking for something in the fantasy genre\";\n",
    "\n",
    "var answer = await chatFunction.InvokeAsync(kernel, arguments);\n",
    "\n",
    "var result = $\"\\nUser: {arguments[\"userInput\"]}\\nAI: {answer}\\n\";\n",
    "history += result;\n",
    "\n",
    "arguments[\"history\"] = history;\n",
    "\n",
    "// Show the response\n",
    "Console.WriteLine(result);"
   ]
  },
  {
   "cell_type": "code",
   "execution_count": null,
   "metadata": {
    "dotnet_interactive": {
     "language": "csharp"
    },
    "polyglot_notebook": {
     "kernelName": "csharp"
    },
    "vscode": {
     "languageId": "polyglot-notebook"
    }
   },
   "outputs": [],
   "source": [
    "#r \"nuget: Microsoft.SemanticKernel.Plugins.Memory, 1.10.0-alpha\"\n",
    "#r \"nuget: System.Interactive.Async, 6.0.1\"\n",
    "\n",
    "using System.Linq;\n",
    "using Microsoft.SemanticKernel.Memory;\n",
    "using Microsoft.SemanticKernel.Plugins.Memory;\n",
    "using Microsoft.SemanticKernel.Connectors.OpenAI;\n",
    "\n",
    "// Memory functionality is experimental\n",
    "#pragma warning disable SKEXP0001, SKEXP0010, SKEXP0050\n",
    "var memoryBuilder = new MemoryBuilder();\n",
    "\n",
    "//TODO replace with Bedrock\n",
    "memoryBuilder.WithOpenAITextEmbeddingGeneration(\"text-embedding-ada-002\", openAIAPIKey);\n",
    "\n",
    "memoryBuilder.WithMemoryStore(new VolatileMemoryStore()); // TODO try some Bedrock memory store\n",
    "var memory = memoryBuilder.Build();\n",
    "\n",
    "const string MemoryCollectionName = \"aboutMe\";\n",
    "await memory.SaveInformationAsync(MemoryCollectionName, id: \"info1\", text: \"My name is Andrea\");\n",
    "\n",
    "var response = await memory.SearchAsync(MemoryCollectionName, \"What is my name?\").FirstOrDefaultAsync();\n",
    "Console.WriteLine(response);\n",
    "Console.WriteLine(response?.Display());"
   ]
  },
  {
   "cell_type": "code",
   "execution_count": null,
   "metadata": {
    "dotnet_interactive": {
     "language": "csharp"
    },
    "polyglot_notebook": {
     "kernelName": "csharp"
    },
    "vscode": {
     "languageId": "polyglot-notebook"
    }
   },
   "outputs": [],
   "source": [
    "#r \"nuget: Qdrant.Client, 1.9.0\""
   ]
  },
  {
   "cell_type": "code",
   "execution_count": null,
   "metadata": {
    "dotnet_interactive": {
     "language": "csharp"
    },
    "polyglot_notebook": {
     "kernelName": "csharp"
    },
    "vscode": {
     "languageId": "polyglot-notebook"
    }
   },
   "outputs": [],
   "source": [
    "docker start quokkavec-qdrant"
   ]
  },
  {
   "cell_type": "markdown",
   "metadata": {},
   "source": [
    "# Setup Qdrant vector DB, setup Collection and fill it with embeddings"
   ]
  },
  {
   "cell_type": "code",
   "execution_count": null,
   "metadata": {
    "dotnet_interactive": {
     "language": "csharp"
    },
    "polyglot_notebook": {
     "kernelName": "csharp"
    },
    "vscode": {
     "languageId": "polyglot-notebook"
    }
   },
   "outputs": [],
   "source": [
    "var pathToIndex = \"c:/temp/quokkavec-test\";"
   ]
  },
  {
   "cell_type": "code",
   "execution_count": null,
   "metadata": {
    "dotnet_interactive": {
     "language": "csharp"
    },
    "polyglot_notebook": {
     "kernelName": "csharp"
    },
    "vscode": {
     "languageId": "polyglot-notebook"
    }
   },
   "outputs": [],
   "source": [
    "using Qdrant.Client;\n",
    "using Qdrant.Client.Grpc;\n",
    "\n",
    "#pragma warning disable SKEXP0010 // Type is for evaluation purposes only and is subject to change or removal in future updates. Suppress this diagnostic to proceed.\n",
    "#pragma warning disable SKEXP0001 // Type is for evaluation purposes only and is subject to change or removal in future updates. Suppress this diagnostic to proceed.\n",
    "\n",
    "var collectionName = \"test\";\n",
    "var qdrantClient = new QdrantClient(\"localhost\");\n",
    "if (!await qdrantClient.CollectionExistsAsync(collectionName))\n",
    "{\n",
    "\tawait qdrantClient.CreateCollectionAsync(collectionName, new VectorParams { Size = 1536, Distance = Distance.Cosine });\n",
    "}\n",
    "\n",
    "// index all files in the folder\n",
    "var files = Directory.GetFiles(pathToIndex, \"*\", SearchOption.AllDirectories);\n",
    "int i = 0;\n",
    "foreach (var file in files)\n",
    "{\n",
    "\tvar text = await File.ReadAllTextAsync(file);\n",
    "\t// take only first 1k characters\n",
    "\ttext = text.Substring(0, Math.Min(1000, text.Length));\n",
    "\tReadOnlyMemory<float> embedding = await embeddingGenerationService.GenerateEmbeddingAsync(text);\n",
    "\n",
    "\tvar points = new List<PointStruct>()\n",
    "\t{\n",
    "\t\tnew PointStruct\n",
    "\t\t{\n",
    "\t\t\tId = new PointId { Num = (ulong)i },\n",
    "\t\t\tVectors = embedding.ToArray(),\n",
    "\t\t\tPayload = { { \"fileName\", file } }\n",
    "\t\t}\n",
    "\t};\n",
    "\tvar updateResult = await qdrantClient.UpsertAsync(collectionName, points);\n",
    "\tConsole.WriteLine($\"File {file} indexed, result: {updateResult}\");\n",
    "\n",
    "\ti++;\n",
    "}"
   ]
  },
  {
   "cell_type": "code",
   "execution_count": null,
   "metadata": {
    "dotnet_interactive": {
     "language": "csharp"
    },
    "polyglot_notebook": {
     "kernelName": "csharp"
    },
    "vscode": {
     "languageId": "polyglot-notebook"
    }
   },
   "outputs": [],
   "source": [
    "string searchQuery = \"Latest news\";"
   ]
  },
  {
   "cell_type": "code",
   "execution_count": null,
   "metadata": {
    "dotnet_interactive": {
     "language": "csharp"
    },
    "polyglot_notebook": {
     "kernelName": "csharp"
    },
    "vscode": {
     "languageId": "polyglot-notebook"
    }
   },
   "outputs": [],
   "source": [
    "#pragma warning disable SKEXP0010 // Type is for evaluation purposes only and is subject to change or removal in future updates. Suppress this diagnostic to proceed.\n",
    "#pragma warning disable SKEXP0001 // Type is for evaluation purposes only and is subject to change or removal in future updates. Suppress this diagnostic to proceed.\n",
    "\n",
    "var queryVector = await embeddingGenerationService.GenerateEmbeddingAsync(searchQuery);\n",
    "var searchResult = await qdrantClient.SearchAsync(collectionName, queryVector.ToArray(), limit: 2);\n",
    "\n",
    "foreach (var result in searchResult)\n",
    "{\n",
    "\tConsole.WriteLine($\"File: {result.Payload[\"fileName\"]}, Score: {result.Score}\");\n",
    "}"
   ]
  }
 ],
 "metadata": {
  "kernelspec": {
   "display_name": ".NET (C#)",
   "language": "C#",
   "name": ".net-csharp"
  },
  "language_info": {
   "name": "csharp"
  },
  "polyglot_notebook": {
   "kernelInfo": {
    "defaultKernelName": "csharp",
    "items": [
     {
      "aliases": [],
      "name": "csharp"
     }
    ]
   }
  }
 },
 "nbformat": 4,
 "nbformat_minor": 2
}
