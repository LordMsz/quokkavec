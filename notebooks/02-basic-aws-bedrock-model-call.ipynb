{
 "cells": [
  {
   "cell_type": "code",
   "execution_count": null,
   "metadata": {
    "dotnet_interactive": {
     "language": "csharp"
    },
    "polyglot_notebook": {
     "kernelName": "csharp"
    },
    "vscode": {
     "languageId": "polyglot-notebook"
    }
   },
   "outputs": [],
   "source": [
    "#r \"nuget: Microsoft.Extensions.Configuration, 8.0.0\"\n",
    "#r \"nuget: Microsoft.Extensions.Configuration.FileExtensions, 8.0.0\"\n",
    "#r \"nuget: Microsoft.Extensions.Configuration.Json, 8.0.0\"\n",
    "#r \"nuget: AWSSDK.BedrockRuntime, 3.7.302.7\"\n",
    "#r \"nuget: Rockhead.Extensions, 0.1.2-preview\""
   ]
  },
  {
   "cell_type": "markdown",
   "metadata": {},
   "source": [
    "# Use Access Keys and call Foundational model from Amazon Bedrock"
   ]
  },
  {
   "cell_type": "code",
   "execution_count": null,
   "metadata": {
    "dotnet_interactive": {
     "language": "csharp"
    },
    "polyglot_notebook": {
     "kernelName": "csharp"
    },
    "vscode": {
     "languageId": "polyglot-notebook"
    }
   },
   "outputs": [],
   "source": [
    "using System.IO;\n",
    "using Microsoft.Extensions.Configuration;\n",
    "using System.Text.Json;\n",
    "using System.Text.Json.Nodes;\n",
    "using System.Text.Json.Serialization;\n",
    "using Amazon;\n",
    "using Amazon.Util;\n",
    "using Amazon.BedrockRuntime;\n",
    "using Amazon.BedrockRuntime.Model;\n",
    "using Rockhead.Extensions; // TODO: consider contributing\n",
    "\n",
    "\n",
    "var builder = new ConfigurationBuilder()\n",
    "    .SetBasePath(Directory.GetCurrentDirectory())\n",
    "    .AddJsonFile(Path.Combine(\n",
    "        Environment.GetFolderPath(Environment.SpecialFolder.ApplicationData),\n",
    "        \"Microsoft\",\n",
    "        \"UserSecrets\",\n",
    "        \"2b6c897c-02c0-4c8e-91a8-cb61113a6acc\", // comes from the project file QuokkaVec.Console.csproj\n",
    "        \"secrets.json\")\n",
    "    );\n",
    "\n",
    "IConfigurationRoot configuration = builder.Build();\n",
    "\n",
    "string awsAccessKeyId = configuration[\"AWSAccessKeyId\"] ?? string.Empty;\n",
    "string awsSecretAccessKey = configuration[\"AWSSecretAccessKey\"] ?? string.Empty;\n",
    "\n",
    "if (string.IsNullOrWhiteSpace(awsAccessKeyId) || string.IsNullOrWhiteSpace(awsSecretAccessKey))\n",
    "{\n",
    "\tConsole.WriteLine(\"AWSAccessKeyId or AWSSecretAccessKey is not set, use 'dotnet user-secrets init' and 'dotnet user-secrets set <key> <value>' to set the key, exiting...\");\n",
    "\treturn;\n",
    "}\n",
    "\n",
    "string modelId = \"meta.llama3-70b-instruct-v1:0\";\n",
    "AmazonBedrockRuntimeClient awsClient = new(awsAccessKeyId, awsSecretAccessKey, RegionEndpoint.USEast1);\n",
    "string payload = new JsonObject()\n",
    "{\n",
    "\t{ \"prompt\", \"Test prompt\" },\n",
    "\t{ \"max_gen_len\", 512 },\n",
    "\t{ \"temperature\", 0.5 }\n",
    "}.ToJsonString();\n",
    "\n",
    "try\n",
    "{\n",
    "\tvar response = await awsClient.InvokeModelAsync(new InvokeModelRequest\n",
    "\t{\n",
    "\t\tModelId = modelId,\n",
    "\t\tBody = AWSSDKUtils.GenerateMemoryStreamFromString(payload),\n",
    "\t\tContentType = \"application/json\",\n",
    "\t\tAccept = \"application/json\"\n",
    "\t});\n",
    "\tConsole.WriteLine(response);\n",
    "\tConsole.WriteLine(response?.HttpStatusCode);\n",
    "\tConsole.WriteLine(response?.Body?.ToString());\n",
    "\n",
    "\t// use system.text.json to parse the response into testResponse object\n",
    "\tvar jsonString = await new StreamReader(response.Body).ReadToEndAsync();\n",
    "\tConsole.WriteLine(jsonString);\n",
    "\n",
    "\tvar testResponse = JsonSerializer.Deserialize<Llama2Response>(jsonString) ?? new Llama2Response();\n",
    "\tConsole.WriteLine(testResponse);\n",
    "\tConsole.WriteLine(testResponse.Generation);\n",
    "\tConsole.WriteLine(testResponse.PromptTokenCount);\n",
    "\tConsole.WriteLine(testResponse.GenerationTokenCount);\n",
    "\tConsole.WriteLine(testResponse.StopReason);\n",
    "}\n",
    "catch (Exception ex)\n",
    "{\n",
    "\tConsole.WriteLine($\"Error invoking model: {ex.Message}\");\n",
    "}"
   ]
  }
 ],
 "metadata": {
  "kernelspec": {
   "display_name": ".NET (C#)",
   "language": "C#",
   "name": ".net-csharp"
  },
  "language_info": {
   "name": "csharp"
  },
  "polyglot_notebook": {
   "kernelInfo": {
    "defaultKernelName": "csharp",
    "items": [
     {
      "aliases": [],
      "name": "csharp"
     }
    ]
   }
  }
 },
 "nbformat": 4,
 "nbformat_minor": 2
}
