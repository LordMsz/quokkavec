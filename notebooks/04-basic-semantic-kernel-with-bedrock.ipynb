{
 "cells": [
  {
   "cell_type": "code",
   "execution_count": null,
   "metadata": {
    "dotnet_interactive": {
     "language": "csharp"
    },
    "polyglot_notebook": {
     "kernelName": "csharp"
    },
    "vscode": {
     "languageId": "polyglot-notebook"
    }
   },
   "outputs": [],
   "source": [
    "#r \"nuget: Microsoft.SemanticKernel, 1.10.0\"\n",
    "#r \"nuget: Microsoft.Extensions.Configuration, 8.0.0\"\n",
    "#r \"nuget: Microsoft.Extensions.Configuration.FileExtensions, 8.0.0\"\n",
    "#r \"nuget: Microsoft.Extensions.Configuration.Json, 8.0.0\"\n",
    "#r \"nuget: AWSSDK.BedrockRuntime, 3.7.302.7\"\n",
    "#r \"nuget: Rockhead.Extensions, 0.1.2-preview\""
   ]
  },
  {
   "cell_type": "code",
   "execution_count": null,
   "metadata": {
    "dotnet_interactive": {
     "language": "csharp"
    },
    "polyglot_notebook": {
     "kernelName": "csharp"
    },
    "vscode": {
     "languageId": "polyglot-notebook"
    }
   },
   "outputs": [],
   "source": [
    "using System;\n",
    "using System.IO;\n",
    "using System.Threading;\n",
    "using System.Text.Json;\n",
    "using System.Text.Json.Nodes;\n",
    "using System.Text.Json.Serialization;\n",
    "using Microsoft.Extensions.Configuration;\n",
    "using Microsoft.SemanticKernel;\n",
    "using Amazon;\n",
    "using Amazon.Util;\n",
    "using Amazon.BedrockRuntime;\n",
    "using Amazon.BedrockRuntime.Model;\n",
    "using Rockhead.Extensions; // TODO: consider contributing\n",
    "using Rockhead.Extensions.Meta;\n",
    "\n",
    "public class SemanticBedrock : Microsoft.SemanticKernel.TextGeneration.ITextGenerationService\n",
    "{\n",
    "\tpublic IReadOnlyDictionary<string, object?> Attributes => new Dictionary<string, object?>();\n",
    "\n",
    "\tpublic SemanticBedrock()\n",
    "\t{\n",
    "\t\tConsole.WriteLine(\"SemanticBedrock constructor\");\n",
    "\t} // TODO ctor: https://github.com/microsoft/semantic-kernel/blob/main/dotnet/src/Connectors/Connectors.Google/Services/GoogleAIGeminiChatCompletionService.cs#L31\n",
    "\n",
    "\tpublic IAsyncEnumerable<StreamingTextContent> GetStreamingTextContentsAsync(string prompt, PromptExecutionSettings? executionSettings = null, Kernel? kernel = null, CancellationToken cancellationToken = default)\n",
    "\t{\n",
    "\t\tConsole.WriteLine(\"GetStreamingTextContentsAsync\");\n",
    "\t\tthrow new NotImplementedException();\n",
    "\t}\n",
    "\n",
    "\tpublic Task<IReadOnlyList<TextContent>> GetTextContentsAsync(string prompt, PromptExecutionSettings? executionSettings = null, Kernel? kernel = null, CancellationToken cancellationToken = default)\n",
    "\t{\n",
    "\t\t// var result = new List<TextContent> { new(\"Hello World!\") };\n",
    "\t\tConsole.WriteLine(\"GetTextContentsAsync\");\n",
    "\t\t// return Task.FromResult<IReadOnlyList<TextContent>>(result);\n",
    "\n",
    "\t\tvar builder = new ConfigurationBuilder()\n",
    "\t\t\t.SetBasePath(Directory.GetCurrentDirectory())\n",
    "\t\t\t.AddJsonFile(Path.Combine(\n",
    "\t\t\t\tEnvironment.GetFolderPath(Environment.SpecialFolder.ApplicationData),\n",
    "\t\t\t\t\"Microsoft\",\n",
    "\t\t\t\t\"UserSecrets\",\n",
    "\t\t\t\t\"2b6c897c-02c0-4c8e-91a8-cb61113a6acc\", // comes from the project file QuokkaVec.Console.csproj\n",
    "\t\t\t\t\"secrets.json\")\n",
    "\t\t\t);\n",
    "\n",
    "\t\tIConfigurationRoot configuration = builder.Build();\n",
    "\n",
    "\t\tstring awsAccessKeyId = configuration[\"AWSAccessKeyId\"] ?? string.Empty;\n",
    "\t\tstring awsSecretAccessKey = configuration[\"AWSSecretAccessKey\"] ?? string.Empty;\n",
    "\n",
    "\t\tif (string.IsNullOrWhiteSpace(awsAccessKeyId) || string.IsNullOrWhiteSpace(awsSecretAccessKey))\n",
    "\t\t{\n",
    "\t\t\tConsole.WriteLine(\"AWSAccessKeyId or AWSSecretAccessKey is not set, use 'dotnet user-secrets init' and 'dotnet user-secrets set <key> <value>' to set the key, exiting...\");\n",
    "\t\t\tthrow new Exception(\"AWSAccessKeyId or AWSSecretAccessKey is not set\");\n",
    "\t\t}\n",
    "\n",
    "\n",
    "\t\tstring modelId = \"meta.llama3-70b-instruct-v1:0\";\n",
    "\t\tAmazonBedrockRuntimeClient awsClient = new(awsAccessKeyId, awsSecretAccessKey, RegionEndpoint.USEast1);\n",
    "\t\tstring payload = new JsonObject()\n",
    "\t\t{\n",
    "\t\t\t{ \"prompt\", \"Test prompt\" },\n",
    "\t\t\t{ \"max_gen_len\", 512 },\n",
    "\t\t\t{ \"temperature\", 0.5 }\n",
    "\t\t}.ToJsonString();\n",
    "\n",
    "\t\ttry\n",
    "\t\t{\n",
    "\t\t\tvar response = awsClient.InvokeModelAsync(new InvokeModelRequest\n",
    "\t\t\t{\n",
    "\t\t\t\tModelId = modelId,\n",
    "\t\t\t\tBody = AWSSDKUtils.GenerateMemoryStreamFromString(payload),\n",
    "\t\t\t\tContentType = \"application/json\",\n",
    "\t\t\t\tAccept = \"application/json\"\n",
    "\t\t\t}).GetAwaiter().GetResult();\n",
    "\t\t\tConsole.WriteLine(response);\n",
    "\t\t\tConsole.WriteLine(response?.HttpStatusCode);\n",
    "\t\t\tConsole.WriteLine(response?.Body?.ToString());\n",
    "\n",
    "\t\t\t// use system.text.json to parse the response into testResponse object\n",
    "\t\t\tvar jsonString = (new StreamReader(response.Body).ReadToEndAsync()).GetAwaiter().GetResult();\n",
    "\t\t\tConsole.WriteLine(jsonString);\n",
    "\n",
    "\t\t\tvar testResponse = JsonSerializer.Deserialize<Llama2Response>(jsonString) ?? new Llama2Response();\n",
    "\t\t\tConsole.WriteLine(testResponse);\n",
    "\t\t\tConsole.WriteLine(testResponse.Generation);\n",
    "\t\t\tConsole.WriteLine(testResponse.PromptTokenCount);\n",
    "\t\t\tConsole.WriteLine(testResponse.GenerationTokenCount);\n",
    "\t\t\tConsole.WriteLine(testResponse.StopReason);\n",
    "\n",
    "\t\t\treturn Task.FromResult<IReadOnlyList<TextContent>>(new List<TextContent> { new(testResponse.Generation) });\n",
    "\t\t}\n",
    "\t\tcatch (Exception ex)\n",
    "\t\t{\n",
    "\t\t\tConsole.WriteLine($\"Error invoking model: {ex.Message}\");\n",
    "\t\t\treturn Task.FromResult<IReadOnlyList<TextContent>>(new List<TextContent> { new(\"Error invoking model\") });\n",
    "\t\t}\n",
    "\t}\n",
    "}"
   ]
  },
  {
   "cell_type": "markdown",
   "metadata": {},
   "source": [
    "# Load OpenAI key from dotnet User-Secrets and setup Semantic Kernel"
   ]
  },
  {
   "cell_type": "code",
   "execution_count": null,
   "metadata": {
    "dotnet_interactive": {
     "language": "csharp"
    },
    "polyglot_notebook": {
     "kernelName": "csharp"
    },
    "vscode": {
     "languageId": "polyglot-notebook"
    }
   },
   "outputs": [],
   "source": [
    "using System.IO;\n",
    "using Microsoft.SemanticKernel;\n",
    "using Microsoft.SemanticKernel.Embeddings;\n",
    "using Microsoft.SemanticKernel.TextGeneration;\n",
    "using Microsoft.Extensions.Configuration;\n",
    "using Microsoft.Extensions.DependencyInjection;\n",
    "\n",
    "\n",
    "var builder = new ConfigurationBuilder()\n",
    "    .SetBasePath(Directory.GetCurrentDirectory())\n",
    "    .AddJsonFile(Path.Combine(\n",
    "        Environment.GetFolderPath(Environment.SpecialFolder.ApplicationData),\n",
    "        \"Microsoft\",\n",
    "        \"UserSecrets\",\n",
    "        \"2b6c897c-02c0-4c8e-91a8-cb61113a6acc\", // comes from the project file QuokkaVec.Console.csproj\n",
    "        \"secrets.json\")\n",
    "    );\n",
    "\n",
    "IConfigurationRoot configuration = builder.Build();\n",
    "string openAIAPIKey = configuration[\"OpenAIAPIKey\"];\n",
    "string awsAccessKeyId = configuration[\"AWSAccessKeyId\"] ?? string.Empty;\n",
    "string awsSecretAccessKey = configuration[\"AWSSecretAccessKey\"] ?? string.Empty;\n",
    "\n",
    "if (string.IsNullOrWhiteSpace(awsAccessKeyId) || string.IsNullOrWhiteSpace(awsSecretAccessKey))\n",
    "{\n",
    "\tConsole.WriteLine(\"AWSAccessKeyId or AWSSecretAccessKey is not set, use 'dotnet user-secrets init' and 'dotnet user-secrets set <key> <value>' to set the key, exiting...\");\n",
    "\treturn;\n",
    "}\n",
    "\n",
    "Console.WriteLine(\"OpenAIAPIKey is set\");\n",
    "\n",
    "#pragma warning disable SKEXP0010 // Type is for evaluation purposes only and is subject to change or removal in future updates. Suppress this diagnostic to proceed.\n",
    "#pragma warning disable SKEXP0001 // Type is for evaluation purposes only and is subject to change or removal in future updates. Suppress this diagnostic to proceed.\n",
    "\n",
    "var kernelBuilder = Kernel.CreateBuilder();\n",
    "kernelBuilder.Services.AddSingleton<ITextGenerationService, SemanticBedrock>();\n",
    "kernelBuilder.Services.AddSingleton<ITextGenerationService, SemanticBedrock>((_) => new SemanticBedrock());\n",
    "// kerbelBuilder.AddOpenAITextEmbeddingGeneration(\"text-embedding-3-small\", openAIAPIKey);\n",
    "var kernel = kernelBuilder.Build();\n",
    "\n",
    "// var embeddingGenerationService = kernel.GetRequiredService<ITextEmbeddingGenerationService>();\n",
    "\n",
    "const string functionDefinition = \"Write one paragraph on {{$input}}\";\n",
    "var paragraphWritingFunction = kernel.CreateFunctionFromPrompt(functionDefinition);\n",
    "\n",
    "const string Input = \"Why AI is awesome\";\n",
    "Console.WriteLine($\"Function input: {Input}\\n\");\n",
    "var result = await paragraphWritingFunction.InvokeAsync(kernel, new() { [\"input\"] = Input });\n",
    "Console.WriteLine($\"Function output: {result}\");\n",
    "// kernel.InvokePromptAsync(\"Write one paragraph on Why AI is awesome\", cancellationToken: default).Wait();"
   ]
  },
  {
   "cell_type": "code",
   "execution_count": null,
   "metadata": {
    "dotnet_interactive": {
     "language": "csharp"
    },
    "polyglot_notebook": {
     "kernelName": "csharp"
    },
    "vscode": {
     "languageId": "polyglot-notebook"
    }
   },
   "outputs": [],
   "source": [
    "const string skPrompt = @\"\n",
    "ChatBot can have a conversation with you about any topic.\n",
    "It can give explicit instructions or say 'I don't know' if it does not have an answer.\n",
    "\n",
    "{{$history}}\n",
    "User: {{$userInput}}\n",
    "ChatBot:\";\n",
    "\n",
    "// var executionSettings = new OpenAIPromptExecutionSettings  //TODO bedrock settings\n",
    "// {\n",
    "//     MaxTokens = 2000,\n",
    "//     Temperature = 0.7,\n",
    "//     TopP = 0.5\n",
    "// };\n",
    "var chatFunction = kernel.CreateFunctionFromPrompt(skPrompt);//, executionSettings);\n",
    "var history = \"\";\n",
    "var arguments = new KernelArguments()\n",
    "{\n",
    "    [\"history\"] = history\n",
    "};\n",
    "\n",
    "var userInput = \"Hi, I'm looking for book suggestions\";\n",
    "arguments[\"userInput\"] = userInput;\n",
    "\n",
    "var bot_answer = await chatFunction.InvokeAsync(kernel, arguments);"
   ]
  },
  {
   "cell_type": "code",
   "execution_count": null,
   "metadata": {
    "dotnet_interactive": {
     "language": "csharp"
    },
    "polyglot_notebook": {
     "kernelName": "csharp"
    },
    "vscode": {
     "languageId": "polyglot-notebook"
    }
   },
   "outputs": [],
   "source": [
    "history += $\"\\nUser: {userInput}\\nAI: {bot_answer}\\n\";\n",
    "arguments[\"history\"] = history;\n",
    "\n",
    "Console.WriteLine(history);\n",
    "\n",
    "arguments[\"userInput\"] = \"Alright, but I'm looking for something in the fantasy genre\";\n",
    "\n",
    "var answer = await chatFunction.InvokeAsync(kernel, arguments);\n",
    "\n",
    "var result = $\"\\nUser: {arguments[\"userInput\"]}\\nAI: {answer}\\n\";\n",
    "history += result;\n",
    "\n",
    "arguments[\"history\"] = history;\n",
    "\n",
    "// Show the response\n",
    "Console.WriteLine(result);"
   ]
  },
  {
   "cell_type": "code",
   "execution_count": null,
   "metadata": {
    "dotnet_interactive": {
     "language": "csharp"
    },
    "polyglot_notebook": {
     "kernelName": "csharp"
    },
    "vscode": {
     "languageId": "polyglot-notebook"
    }
   },
   "outputs": [],
   "source": [
    "#r \"nuget: Microsoft.SemanticKernel.Plugins.Memory, 1.10.0-alpha\"\n",
    "#r \"nuget: System.Interactive.Async, 6.0.1\"\n",
    "\n",
    "using System.Linq;\n",
    "using Microsoft.SemanticKernel.Memory;\n",
    "using Microsoft.SemanticKernel.Plugins.Memory;\n",
    "using Microsoft.SemanticKernel.Connectors.OpenAI;\n",
    "\n",
    "// Memory functionality is experimental\n",
    "#pragma warning disable SKEXP0001, SKEXP0010, SKEXP0050\n",
    "var memoryBuilder = new MemoryBuilder();\n",
    "\n",
    "//TODO replace with Bedrock\n",
    "memoryBuilder.WithOpenAITextEmbeddingGeneration(\"text-embedding-ada-002\", openAIAPIKey);\n",
    "\n",
    "memoryBuilder.WithMemoryStore(new VolatileMemoryStore()); // TODO try some Bedrock memory store\n",
    "var memory = memoryBuilder.Build();\n",
    "\n",
    "const string MemoryCollectionName = \"aboutMe\";\n",
    "await memory.SaveInformationAsync(MemoryCollectionName, id: \"info1\", text: \"My name is Andrea\");\n",
    "\n",
    "var response = await memory.SearchAsync(MemoryCollectionName, \"What is my name?\").FirstOrDefaultAsync();\n",
    "Console.WriteLine(response);\n",
    "Console.WriteLine(response?.Display());"
   ]
  },
  {
   "cell_type": "code",
   "execution_count": null,
   "metadata": {
    "dotnet_interactive": {
     "language": "csharp"
    },
    "polyglot_notebook": {
     "kernelName": "csharp"
    },
    "vscode": {
     "languageId": "polyglot-notebook"
    }
   },
   "outputs": [],
   "source": [
    "#r \"nuget: Qdrant.Client, 1.9.0\""
   ]
  },
  {
   "cell_type": "code",
   "execution_count": null,
   "metadata": {
    "dotnet_interactive": {
     "language": "csharp"
    },
    "polyglot_notebook": {
     "kernelName": "csharp"
    },
    "vscode": {
     "languageId": "polyglot-notebook"
    }
   },
   "outputs": [],
   "source": [
    "docker start quokkavec-qdrant"
   ]
  },
  {
   "cell_type": "markdown",
   "metadata": {},
   "source": [
    "# Setup Qdrant vector DB, setup Collection and fill it with embeddings"
   ]
  },
  {
   "cell_type": "code",
   "execution_count": null,
   "metadata": {
    "dotnet_interactive": {
     "language": "csharp"
    },
    "polyglot_notebook": {
     "kernelName": "csharp"
    },
    "vscode": {
     "languageId": "polyglot-notebook"
    }
   },
   "outputs": [],
   "source": [
    "var pathToIndex = \"c:/temp/quokkavec-test\";"
   ]
  },
  {
   "cell_type": "code",
   "execution_count": null,
   "metadata": {
    "dotnet_interactive": {
     "language": "csharp"
    },
    "polyglot_notebook": {
     "kernelName": "csharp"
    },
    "vscode": {
     "languageId": "polyglot-notebook"
    }
   },
   "outputs": [],
   "source": [
    "using Qdrant.Client;\n",
    "using Qdrant.Client.Grpc;\n",
    "\n",
    "#pragma warning disable SKEXP0010 // Type is for evaluation purposes only and is subject to change or removal in future updates. Suppress this diagnostic to proceed.\n",
    "#pragma warning disable SKEXP0001 // Type is for evaluation purposes only and is subject to change or removal in future updates. Suppress this diagnostic to proceed.\n",
    "\n",
    "var collectionName = \"test\";\n",
    "var qdrantClient = new QdrantClient(\"localhost\");\n",
    "if (!await qdrantClient.CollectionExistsAsync(collectionName))\n",
    "{\n",
    "\tawait qdrantClient.CreateCollectionAsync(collectionName, new VectorParams { Size = 1536, Distance = Distance.Cosine });\n",
    "}\n",
    "\n",
    "// index all files in the folder\n",
    "var files = Directory.GetFiles(pathToIndex, \"*\", SearchOption.AllDirectories);\n",
    "int i = 0;\n",
    "foreach (var file in files)\n",
    "{\n",
    "\tvar text = await File.ReadAllTextAsync(file);\n",
    "\t// take only first 1k characters\n",
    "\ttext = text.Substring(0, Math.Min(1000, text.Length));\n",
    "\tReadOnlyMemory<float> embedding = await embeddingGenerationService.GenerateEmbeddingAsync(text);\n",
    "\n",
    "\tvar points = new List<PointStruct>()\n",
    "\t{\n",
    "\t\tnew PointStruct\n",
    "\t\t{\n",
    "\t\t\tId = new PointId { Num = (ulong)i },\n",
    "\t\t\tVectors = embedding.ToArray(),\n",
    "\t\t\tPayload = { { \"fileName\", file } }\n",
    "\t\t}\n",
    "\t};\n",
    "\tvar updateResult = await qdrantClient.UpsertAsync(collectionName, points);\n",
    "\tConsole.WriteLine($\"File {file} indexed, result: {updateResult}\");\n",
    "\n",
    "\ti++;\n",
    "}"
   ]
  },
  {
   "cell_type": "code",
   "execution_count": null,
   "metadata": {
    "dotnet_interactive": {
     "language": "csharp"
    },
    "polyglot_notebook": {
     "kernelName": "csharp"
    },
    "vscode": {
     "languageId": "polyglot-notebook"
    }
   },
   "outputs": [],
   "source": [
    "string searchQuery = \"Latest news\";"
   ]
  },
  {
   "cell_type": "code",
   "execution_count": null,
   "metadata": {
    "dotnet_interactive": {
     "language": "csharp"
    },
    "polyglot_notebook": {
     "kernelName": "csharp"
    },
    "vscode": {
     "languageId": "polyglot-notebook"
    }
   },
   "outputs": [],
   "source": [
    "#pragma warning disable SKEXP0010 // Type is for evaluation purposes only and is subject to change or removal in future updates. Suppress this diagnostic to proceed.\n",
    "#pragma warning disable SKEXP0001 // Type is for evaluation purposes only and is subject to change or removal in future updates. Suppress this diagnostic to proceed.\n",
    "\n",
    "var queryVector = await embeddingGenerationService.GenerateEmbeddingAsync(searchQuery);\n",
    "var searchResult = await qdrantClient.SearchAsync(collectionName, queryVector.ToArray(), limit: 2);\n",
    "\n",
    "foreach (var result in searchResult)\n",
    "{\n",
    "\tConsole.WriteLine($\"File: {result.Payload[\"fileName\"]}, Score: {result.Score}\");\n",
    "}"
   ]
  }
 ],
 "metadata": {
  "kernelspec": {
   "display_name": ".NET (C#)",
   "language": "C#",
   "name": ".net-csharp"
  },
  "language_info": {
   "name": "csharp"
  },
  "polyglot_notebook": {
   "kernelInfo": {
    "defaultKernelName": "csharp",
    "items": [
     {
      "aliases": [],
      "name": "csharp"
     }
    ]
   }
  }
 },
 "nbformat": 4,
 "nbformat_minor": 2
}
