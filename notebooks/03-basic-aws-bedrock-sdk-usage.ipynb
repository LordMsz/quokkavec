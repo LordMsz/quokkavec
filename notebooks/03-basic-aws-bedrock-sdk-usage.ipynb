{
 "cells": [
  {
   "cell_type": "markdown",
   "metadata": {},
   "source": [
    "# Bedrock Knowledge Base, S3 bucket and Open Search Index/Collection"
   ]
  },
  {
   "cell_type": "code",
   "execution_count": null,
   "metadata": {
    "dotnet_interactive": {
     "language": "mermaid"
    },
    "polyglot_notebook": {
     "kernelName": "mermaid"
    },
    "vscode": {
     "languageId": "polyglot-notebook"
    }
   },
   "outputs": [],
   "source": [
    "graph LR;\n",
    "    A[Simple Local File] -->|SDK; Load To AWS S3| B[AWS S3];\n",
    "    B-->|SDK; Ingest job run| C(Chunks);\n",
    "    C-->D[Embeddings model];\n",
    "    D-->|Store vectors|E[Vector Store / AWS OpenSearch];\n",
    "    F[User query]-->D;\n",
    "    D-->|User query results, similarity search|E;\n",
    "    E-->|Found simlar vectors,\\nAugment prompt|G[Standard LLM prompt context];"
   ]
  },
  {
   "cell_type": "markdown",
   "metadata": {},
   "source": [
    "## Use AWS Cloud Shell or AWS CLI to create necessary resources\n",
    "\n",
    "### Create S3 bucket\n",
    "```\n",
    "# list S3 buckets\n",
    "aws s3 ls\n",
    "\n",
    "aws s3 ls s3://bedrock-test-bucket > /dev/null 2>&1\n",
    "if [ $? -eq 0 ]; then\n",
    "    echo \"Bucket 'bedrock-test-bucket' exists\"\n",
    "else\n",
    "    echo \"Bucket does not exist, creating\"\n",
    "    aws s3 mb s3://s3-quokkavec-bedrock-test --region us-east-1\n",
    "fi\n",
    "```\n",
    "\n",
    "### Create a user group and user for Bedrock admin\n",
    " - Since Knowledge Base can't be made by \"root\" user, we'll need new IAM user with rights for KB creation in Bedrock\n",
    " - Make this by hand in Web UI for now\n",
    " - ~~Create \"Access Key\" for this user to be used in CloudShell~~\n",
    " - ~~Then \"login\" as that user in aws CloudShell~~\n",
    " - As of now 05.2024, AWS CLI doesn't have ability to make Knowledge Bases\n",
    "\n",
    "```\n",
    "aws configure # to configure user in CloudShell/CLI\n",
    "# fill in access key, secret key etc., use default output format json\n",
    "```\n",
    "\n",
    "### TODO: creating role with execution rights for opensearch\n",
    "\n",
    "### Create a vector store / OpenSearch Serverless Index\n",
    "```\n",
    "# aws opensearchserverless create-collection --name oss-quokkavec-bedrock-test\n",
    "# see https://github.com/aws-samples/amazon-bedrock-workshop/blob/main/02_KnowledgeBases_and_RAG/0_create_ingest_documents_test_kb.ipynb\n",
    "# easier way seem to click in in WebUI for now\n",
    "```\n",
    "\n",
    "## Cleanup\n",
    "```\n",
    " aws s3 rm s3://s3-quokkavec-bedrock-test --region us-east-1\n",
    "```\n",
    "\n",
    "## Notes\n",
    " - For now I created KB in the Web Interface; TODO: CLI commands for all of it"
   ]
  },
  {
   "cell_type": "code",
   "execution_count": null,
   "metadata": {
    "dotnet_interactive": {
     "language": "csharp"
    },
    "polyglot_notebook": {
     "kernelName": "csharp"
    },
    "vscode": {
     "languageId": "polyglot-notebook"
    }
   },
   "outputs": [],
   "source": [
    "#r \"nuget: Microsoft.Extensions.Configuration, 8.0.0\"\n",
    "#r \"nuget: Microsoft.Extensions.Configuration.FileExtensions, 8.0.0\"\n",
    "#r \"nuget: Microsoft.Extensions.Configuration.Json, 8.0.0\"\n",
    "#r \"nuget: AWSSDK.BedrockRuntime, 3.7.302.7\"\n",
    "#r \"nuget: AWSSDK.BedrockAgentRuntime, 3.7.302.7\"\n",
    "#r \"nuget: Rockhead.Extensions, 0.1.2-preview\""
   ]
  },
  {
   "cell_type": "markdown",
   "metadata": {},
   "source": [
    "# Use Access Keys and AWS/Bedrock SDK to run model with RAG"
   ]
  },
  {
   "cell_type": "code",
   "execution_count": null,
   "metadata": {
    "dotnet_interactive": {
     "language": "csharp"
    },
    "polyglot_notebook": {
     "kernelName": "csharp"
    },
    "vscode": {
     "languageId": "polyglot-notebook"
    }
   },
   "outputs": [],
   "source": [
    "using System.IO;\n",
    "using Microsoft.Extensions.Configuration;\n",
    "using System.Text.Json;\n",
    "using System.Text.Json.Nodes;\n",
    "using System.Text.Json.Serialization;\n",
    "using Amazon;\n",
    "using Amazon.Util;\n",
    "using Amazon.BedrockRuntime;\n",
    "using Amazon.BedrockRuntime.Model;\n",
    "using Amazon.BedrockAgent.Model;\n",
    "using Amazon.BedrockAgentRuntime;\n",
    "using Amazon.BedrockAgentRuntime.Model;\n",
    "\n",
    "using Rockhead.Extensions; // TODO: consider contributing\n",
    "\n",
    "// following is unfinished\n",
    "\n",
    "\n",
    "var builder = new ConfigurationBuilder()\n",
    "    .SetBasePath(Directory.GetCurrentDirectory())\n",
    "    .AddJsonFile(Path.Combine(\n",
    "        Environment.GetFolderPath(Environment.SpecialFolder.ApplicationData),\n",
    "        \"Microsoft\",\n",
    "        \"UserSecrets\",\n",
    "        \"2b6c897c-02c0-4c8e-91a8-cb61113a6acc\", // comes from the project file QuokkaVec.Console.csproj\n",
    "        \"secrets.json\")\n",
    "    );\n",
    "\n",
    "IConfigurationRoot configuration = builder.Build();\n",
    "\n",
    "string awsAccessKeyId = configuration[\"AWSAccessKeyId\"] ?? string.Empty;\n",
    "string awsSecretAccessKey = configuration[\"AWSSecretAccessKey\"] ?? string.Empty;\n",
    "\n",
    "if (string.IsNullOrWhiteSpace(awsAccessKeyId) || string.IsNullOrWhiteSpace(awsSecretAccessKey))\n",
    "{\n",
    "\tConsole.WriteLine(\"AWSAccessKeyId or AWSSecretAccessKey is not set, use 'dotnet user-secrets init' and 'dotnet user-secrets set <key> <value>' to set the key, exiting...\");\n",
    "\treturn;\n",
    "}\n",
    "\n",
    "string modelId = \"meta.llama3-70b-instruct-v1:0\";\n",
    "AmazonBedrockAgentRuntimeClient bedrockAgentClient = new(awsAccessKeyId, awsSecretAccessKey, RegionEndpoint.USEast1);\n",
    "\n",
    "bedrockAgentClient.Retrie"
   ]
  }
 ],
 "metadata": {
  "kernelspec": {
   "display_name": ".NET (C#)",
   "language": "C#",
   "name": ".net-csharp"
  },
  "language_info": {
   "name": "csharp"
  },
  "polyglot_notebook": {
   "kernelInfo": {
    "defaultKernelName": "csharp",
    "items": [
     {
      "aliases": [],
      "name": "csharp"
     }
    ]
   }
  }
 },
 "nbformat": 4,
 "nbformat_minor": 2
}
