{
 "cells": [
  {
   "cell_type": "code",
   "execution_count": null,
   "metadata": {
    "dotnet_interactive": {
     "language": "csharp"
    },
    "polyglot_notebook": {
     "kernelName": "csharp"
    }
   },
   "outputs": [],
   "source": [
    "#r \"nuget: Microsoft.SemanticKernel, 1.10.0\"\n",
    "#r \"nuget: Microsoft.Extensions.Configuration, 8.0.0\"\n",
    "#r \"nuget: Microsoft.Extensions.Configuration.FileExtensions, 8.0.0\"\n",
    "#r \"nuget: Microsoft.Extensions.Configuration.Json, 8.0.0\""
   ]
  },
  {
   "cell_type": "markdown",
   "metadata": {},
   "source": [
    "# Load OpenAI key from dotnet User-Secrets and setup Semantic Kernel"
   ]
  },
  {
   "cell_type": "code",
   "execution_count": null,
   "metadata": {
    "dotnet_interactive": {
     "language": "csharp"
    },
    "polyglot_notebook": {
     "kernelName": "csharp"
    }
   },
   "outputs": [],
   "source": [
    "using System.IO;\n",
    "using Microsoft.SemanticKernel;\n",
    "using Microsoft.SemanticKernel.Embeddings;\n",
    "using Microsoft.Extensions.Configuration;\n",
    "\n",
    "\n",
    "var builder = new ConfigurationBuilder()\n",
    "    .SetBasePath(Directory.GetCurrentDirectory())\n",
    "    .AddJsonFile(Path.Combine(\n",
    "        Environment.GetFolderPath(Environment.SpecialFolder.ApplicationData),\n",
    "        \"Microsoft\",\n",
    "        \"UserSecrets\",\n",
    "        \"2b6c897c-02c0-4c8e-91a8-cb61113a6acc\", // comes from the project file QuokkaVec.Console.csproj\n",
    "        \"secrets.json\")\n",
    "    );\n",
    "\n",
    "IConfigurationRoot configuration = builder.Build();\n",
    "\n",
    "string openAIAPIKey = configuration[\"OpenAIAPIKey\"];\n",
    "if (string.IsNullOrWhiteSpace(openAIAPIKey))\n",
    "{\n",
    "\tConsole.WriteLine(\"OpenAIAPIKey is not set, use 'dotnet user-secrets init' and 'dotnet user-secrets set OpenAIAPIKey <your key>' to set the key, exiting...\");\n",
    "\treturn;\n",
    "}\n",
    "\n",
    "Console.WriteLine(\"OpenAIAPIKey is set\");\n",
    "\n",
    "#pragma warning disable SKEXP0010 // Type is for evaluation purposes only and is subject to change or removal in future updates. Suppress this diagnostic to proceed.\n",
    "#pragma warning disable SKEXP0001 // Type is for evaluation purposes only and is subject to change or removal in future updates. Suppress this diagnostic to proceed.\n",
    "\n",
    "var kerbelBuilder = Kernel.CreateBuilder();\n",
    "kerbelBuilder.AddOpenAITextEmbeddingGeneration(\"text-embedding-3-small\", openAIAPIKey);\n",
    "var kernel = kerbelBuilder.Build();\n",
    "\n",
    "var embeddingGenerationService = kernel.GetRequiredService<ITextEmbeddingGenerationService>();"
   ]
  },
  {
   "cell_type": "code",
   "execution_count": null,
   "metadata": {
    "dotnet_interactive": {
     "language": "csharp"
    },
    "polyglot_notebook": {
     "kernelName": "csharp"
    }
   },
   "outputs": [],
   "source": [
    "#r \"nuget: Qdrant.Client, 1.9.0\""
   ]
  },
  {
   "cell_type": "code",
   "execution_count": null,
   "metadata": {
    "dotnet_interactive": {
     "language": "pwsh"
    },
    "polyglot_notebook": {
     "kernelName": "pwsh"
    }
   },
   "outputs": [],
   "source": [
    "docker start quokkavec-qdrant"
   ]
  },
  {
   "cell_type": "markdown",
   "metadata": {},
   "source": [
    "# Setup Qdrant vector DB, setup Collection and fill it with embeddings"
   ]
  },
  {
   "cell_type": "code",
   "execution_count": null,
   "metadata": {
    "dotnet_interactive": {
     "language": "csharp"
    },
    "polyglot_notebook": {
     "kernelName": "csharp"
    }
   },
   "outputs": [],
   "source": [
    "var pathToIndex = \"c:/temp/quokkavec-test\";"
   ]
  },
  {
   "cell_type": "code",
   "execution_count": null,
   "metadata": {
    "dotnet_interactive": {
     "language": "csharp"
    },
    "polyglot_notebook": {
     "kernelName": "csharp"
    }
   },
   "outputs": [],
   "source": [
    "using Qdrant.Client;\n",
    "using Qdrant.Client.Grpc;\n",
    "\n",
    "#pragma warning disable SKEXP0010 // Type is for evaluation purposes only and is subject to change or removal in future updates. Suppress this diagnostic to proceed.\n",
    "#pragma warning disable SKEXP0001 // Type is for evaluation purposes only and is subject to change or removal in future updates. Suppress this diagnostic to proceed.\n",
    "\n",
    "var collectionName = \"test\";\n",
    "var qdrantClient = new QdrantClient(\"localhost\");\n",
    "if (!await qdrantClient.CollectionExistsAsync(collectionName))\n",
    "{\n",
    "\tawait qdrantClient.CreateCollectionAsync(collectionName, new VectorParams { Size = 1536, Distance = Distance.Cosine });\n",
    "}\n",
    "\n",
    "// index all files in the folder\n",
    "var files = Directory.GetFiles(pathToIndex, \"*\", SearchOption.AllDirectories);\n",
    "int i = 0;\n",
    "foreach (var file in files)\n",
    "{\n",
    "\tvar text = await File.ReadAllTextAsync(file);\n",
    "\t// take only first 1k characters\n",
    "\ttext = text.Substring(0, Math.Min(1000, text.Length));\n",
    "\tReadOnlyMemory<float> embedding = await embeddingGenerationService.GenerateEmbeddingAsync(text);\n",
    "\n",
    "\tvar points = new List<PointStruct>()\n",
    "\t{\n",
    "\t\tnew PointStruct\n",
    "\t\t{\n",
    "\t\t\tId = new PointId { Num = (ulong)i },\n",
    "\t\t\tVectors = embedding.ToArray(),\n",
    "\t\t\tPayload = { { \"fileName\", file } }\n",
    "\t\t}\n",
    "\t};\n",
    "\tvar updateResult = await qdrantClient.UpsertAsync(collectionName, points);\n",
    "\tConsole.WriteLine($\"File {file} indexed, result: {updateResult}\");\n",
    "\n",
    "\ti++;\n",
    "}"
   ]
  },
  {
   "cell_type": "code",
   "execution_count": null,
   "metadata": {
    "dotnet_interactive": {
     "language": "csharp"
    },
    "polyglot_notebook": {
     "kernelName": "csharp"
    }
   },
   "outputs": [],
   "source": [
    "string searchQuery = \"Latest news\";"
   ]
  },
  {
   "cell_type": "code",
   "execution_count": null,
   "metadata": {
    "dotnet_interactive": {
     "language": "csharp"
    },
    "polyglot_notebook": {
     "kernelName": "csharp"
    }
   },
   "outputs": [],
   "source": [
    "#pragma warning disable SKEXP0010 // Type is for evaluation purposes only and is subject to change or removal in future updates. Suppress this diagnostic to proceed.\n",
    "#pragma warning disable SKEXP0001 // Type is for evaluation purposes only and is subject to change or removal in future updates. Suppress this diagnostic to proceed.\n",
    "\n",
    "var queryVector = await embeddingGenerationService.GenerateEmbeddingAsync(searchQuery);\n",
    "var searchResult = await qdrantClient.SearchAsync(collectionName, queryVector.ToArray(), limit: 2);\n",
    "\n",
    "foreach (var result in searchResult)\n",
    "{\n",
    "\tConsole.WriteLine($\"File: {result.Payload[\"fileName\"]}, Score: {result.Score}\");\n",
    "}"
   ]
  }
 ],
 "metadata": {
  "kernelspec": {
   "display_name": ".NET (C#)",
   "language": "C#",
   "name": ".net-csharp"
  },
  "polyglot_notebook": {
   "kernelInfo": {
    "defaultKernelName": "csharp",
    "items": [
     {
      "aliases": [],
      "languageName": "csharp",
      "name": "csharp"
     }
    ]
   }
  }
 },
 "nbformat": 4,
 "nbformat_minor": 2
}
