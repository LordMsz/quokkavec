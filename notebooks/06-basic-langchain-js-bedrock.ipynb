{
 "cells": [
  {
   "cell_type": "code",
   "execution_count": null,
   "metadata": {
    "dotnet_interactive": {
     "language": "csharp"
    },
    "polyglot_notebook": {
     "kernelName": "csharp"
    },
    "vscode": {
     "languageId": "polyglot-notebook"
    }
   },
   "outputs": [],
   "source": [
    "#r \"nuget: Microsoft.Extensions.Configuration, 8.0.0\"\n",
    "#r \"nuget: Microsoft.Extensions.Configuration.FileExtensions, 8.0.0\"\n",
    "#r \"nuget: Microsoft.Extensions.Configuration.Json, 8.0.0\""
   ]
  },
  {
   "cell_type": "code",
   "execution_count": null,
   "metadata": {
    "dotnet_interactive": {
     "language": "csharp"
    },
    "polyglot_notebook": {
     "kernelName": "csharp"
    },
    "vscode": {
     "languageId": "polyglot-notebook"
    }
   },
   "outputs": [],
   "source": [
    "using System.IO;\n",
    "using Microsoft.Extensions.Configuration;\n",
    "\n",
    "\n",
    "var builder = new ConfigurationBuilder()\n",
    "    .SetBasePath(Directory.GetCurrentDirectory())\n",
    "    .AddJsonFile(Path.Combine(\n",
    "        Environment.GetFolderPath(Environment.SpecialFolder.ApplicationData),\n",
    "        \"Microsoft\",\n",
    "        \"UserSecrets\",\n",
    "        \"2b6c897c-02c0-4c8e-91a8-cb61113a6acc\", // comes from the project file QuokkaVec.Console.csproj\n",
    "        \"secrets.json\")\n",
    "    );\n",
    "\n",
    "IConfigurationRoot configuration = builder.Build();\n",
    "string awsAccessKeyId = configuration[\"AWSAccessKeyId\"] ?? string.Empty;\n",
    "string awsSecretAccessKey = configuration[\"AWSSecretAccessKey\"] ?? string.Empty;\n",
    "\n",
    "if (string.IsNullOrWhiteSpace(awsAccessKeyId) || string.IsNullOrWhiteSpace(awsSecretAccessKey))\n",
    "{\n",
    "\tConsole.WriteLine(\"AWSAccessKeyId or AWSSecretAccessKey is not set, use 'dotnet user-secrets init' and 'dotnet user-secrets set <key> <value>' to set the key, exiting...\");\n",
    "\treturn;\n",
    "}\n",
    "\n",
    "Console.WriteLine(\"API Keys set\");"
   ]
  },
  {
   "cell_type": "code",
   "execution_count": null,
   "metadata": {
    "dotnet_interactive": {
     "language": "javascript"
    },
    "polyglot_notebook": {
     "kernelName": "javascript"
    },
    "vscode": {
     "languageId": "polyglot-notebook"
    }
   },
   "outputs": [],
   "source": [
    "bedrock = await import(\"https://esm.sh/@langchain/community/llms/bedrock\");\n",
    "\n",
    "// interesting why following is not needed\n",
    "// npm install @aws-crypto/sha256-js @aws-sdk/credential-provider-node @smithy/protocol-http @smithy/signature-v4 @smithy/eventstream-codec @smithy/util-utf8 @aws-sdk/types"
   ]
  },
  {
   "cell_type": "code",
   "execution_count": null,
   "metadata": {
    "dotnet_interactive": {
     "language": "javascript"
    },
    "polyglot_notebook": {
     "kernelName": "javascript"
    },
    "vscode": {
     "languageId": "polyglot-notebook"
    }
   },
   "outputs": [],
   "source": [
    "#!set --name awsAccessKeyId --value @csharp:awsAccessKeyId\n",
    "#!set --name awsSecretAccessKey --value @csharp:awsSecretAccessKey"
   ]
  },
  {
   "cell_type": "code",
   "execution_count": null,
   "metadata": {
    "dotnet_interactive": {
     "language": "javascript"
    },
    "polyglot_notebook": {
     "kernelName": "javascript"
    },
    "vscode": {
     "languageId": "polyglot-notebook"
    }
   },
   "outputs": [],
   "source": [
    "// If no credentials are provided, the default credentials from\n",
    "// @aws-sdk/credential-provider-node will be used.\n",
    "const model = new bedrock.Bedrock({\n",
    "  model: \"ai21.j2-grande-instruct\", // You can also do e.g. \"anthropic.claude-v2\"\n",
    "  region: \"us-east-1\",\n",
    "  // endpointUrl: \"custom.amazonaws.com\",\n",
    "  credentials: {\n",
    "    accessKeyId: awsAccessKeyId,//process.env.BEDROCK_AWS_ACCESS_KEY_ID!,\n",
    "    secretAccessKey: awsSecretAccessKey, //process.env.BEDROCK_AWS_SECRET_ACCESS_KEY!,\n",
    "  },\n",
    "  // modelKwargs: {},\n",
    "});\n",
    "\n",
    "const res = await model.invoke(\"Tell me a joke\");\n",
    "console.log(res);"
   ]
  },
  {
   "cell_type": "markdown",
   "metadata": {},
   "source": [
    "Note on JS docs: https://js.langchain.com/v0.1/docs/integrations/text_embedding/bedrock/\n"
   ]
  },
  {
   "cell_type": "code",
   "execution_count": null,
   "metadata": {
    "dotnet_interactive": {
     "language": "javascript"
    },
    "polyglot_notebook": {
     "kernelName": "javascript"
    },
    "vscode": {
     "languageId": "polyglot-notebook"
    }
   },
   "outputs": [],
   "source": [
    "bedrockEmbeddings = await import(\"https://esm.sh/@langchain/community/embeddings/bedrock\");\n",
    "bedrockClient = await import(\"https://esm.sh/@aws-sdk/client-bedrock-runtime\");\n",
    "\n",
    "console.log('Creating embeddings model');\n",
    "const embeddings = new bedrockEmbeddings.BedrockEmbeddings({\n",
    "  client: new bedrockClient.BedrockRuntimeClient({\n",
    "    region: \"us-east-1\",\n",
    "    credentials: {\n",
    "      accessKeyId: awsAccessKeyId,\n",
    "      secretAccessKey: awsSecretAccessKey,\n",
    "    }\n",
    "  }),\n",
    "  // region: \"us-east-1\",\n",
    "  // credentials: {\n",
    "  //   accessKeyId: awsAccessKeyId,\n",
    "  //   secretAccessKey: awsSecretAccessKey,\n",
    "  // },\n",
    "  model: 'amazon.titan-embed-text-v2:0',//\"amazon.titan-embed-text-v1\",\n",
    "});\n",
    "console.log('Embeddings model created');\n",
    "\n",
    "console.log('Embedding query');\n",
    "const res = await embeddings.embedQuery(\n",
    "  \"What would be a good company name a company that makes colorful socks?\"\n",
    ");\n",
    "console.log('Embedding query done');\n",
    "console.log({ res });\n",
    "\n"
   ]
  },
  {
   "cell_type": "markdown",
   "metadata": {},
   "source": [
    "# Store embedding result (res) into local qdrant container"
   ]
  },
  {
   "cell_type": "code",
   "execution_count": null,
   "metadata": {
    "dotnet_interactive": {
     "language": "javascript"
    },
    "polyglot_notebook": {
     "kernelName": "javascript"
    },
    "vscode": {
     "languageId": "polyglot-notebook"
    }
   },
   "outputs": [],
   "source": [
    "qdrant = await import(\"https://esm.sh/@langchain/qdrant\");"
   ]
  },
  {
   "cell_type": "code",
   "execution_count": null,
   "metadata": {
    "dotnet_interactive": {
     "language": "javascript"
    },
    "polyglot_notebook": {
     "kernelName": "javascript"
    },
    "vscode": {
     "languageId": "polyglot-notebook"
    }
   },
   "outputs": [],
   "source": [
    "bedrockEmbeddings = await import(\"https://esm.sh/@langchain/community/embeddings/bedrock\");\n",
    "bedrockClient = await import(\"https://esm.sh/@aws-sdk/client-bedrock-runtime\");\n",
    "qdrant = await import(\"https://esm.sh/@langchain/qdrant\");\n",
    "\n",
    "bedrockEmbeddings = new bedrockEmbeddings.BedrockEmbeddings({\n",
    "  client: new bedrockClient.BedrockRuntimeClient({\n",
    "    region: \"us-east-1\",\n",
    "    credentials: {\n",
    "      accessKeyId: awsAccessKeyId,\n",
    "      secretAccessKey: awsSecretAccessKey,\n",
    "    }\n",
    "  }),\n",
    "  model: 'amazon.titan-embed-text-v2:0',//\"amazon.titan-embed-text-v1\",\n",
    "});\n",
    "\n",
    "vectorStore = await qdrant.QdrantVectorStore.fromTexts(\n",
    "  [\n",
    "    'My code is Quokka',\n",
    "    'Quokka is a great',\n",
    "    'I use QDrant and Bedrock',\n",
    "  ],\n",
    "  [{ id: 1 }, { id: 2 }, { id: 3 }],\n",
    "  bedrockEmbeddings,\n",
    "  {\n",
    "    url: \"http://localhost:6333\",\n",
    "    collectionName: \"test-langchain-js\",\n",
    "  }\n",
    ");\n",
    "\n",
    "const response = await vectorStore.similaritySearch(\"What tools I use?\", 2);\n",
    "console.log(response);\n",
    "\n",
    "return response;"
   ]
  },
  {
   "cell_type": "markdown",
   "metadata": {},
   "source": [
    "# Retriever\n",
    "https://js.langchain.com/v0.1/docs/integrations/retrievers/vectorstore/\n",
    "https://js.langchain.com/v0.1/docs/integrations/retrievers/bedrock-knowledge-bases/"
   ]
  },
  {
   "cell_type": "code",
   "execution_count": null,
   "metadata": {
    "dotnet_interactive": {
     "language": "javascript"
    },
    "polyglot_notebook": {
     "kernelName": "javascript"
    },
    "vscode": {
     "languageId": "polyglot-notebook"
    }
   },
   "outputs": [],
   "source": [
    "retriever = vectorStore.asRetriever();\n",
    "const response = retriever.invoke(\"What tools I use?\")\n",
    "console.log(response);\n",
    "\n",
    "return response;"
   ]
  },
  {
   "cell_type": "markdown",
   "metadata": {},
   "source": [
    "TODO: test\n",
    "https://js.langchain.com/v0.1/docs/integrations/vectorstores/memory/\n",
    "https://js.langchain.com/v0.1/docs/integrations/retrievers/bedrock-knowledge-bases/\n",
    "https://js.langchain.com/v0.1/docs/integrations/tools/lambda_agent/"
   ]
  }
 ],
 "metadata": {
  "kernelspec": {
   "display_name": ".NET (C#)",
   "language": "C#",
   "name": ".net-csharp"
  },
  "language_info": {
   "name": "csharp"
  },
  "polyglot_notebook": {
   "kernelInfo": {
    "defaultKernelName": "csharp",
    "items": [
     {
      "aliases": [],
      "name": "csharp"
     }
    ]
   }
  }
 },
 "nbformat": 4,
 "nbformat_minor": 2
}
